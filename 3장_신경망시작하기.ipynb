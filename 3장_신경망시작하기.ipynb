{
  "nbformat": 4,
  "nbformat_minor": 0,
  "metadata": {
    "kernelspec": {
      "display_name": "Python 3",
      "language": "python",
      "name": "python3"
    },
    "language_info": {
      "codemirror_mode": {
        "name": "ipython",
        "version": 3
      },
      "file_extension": ".py",
      "mimetype": "text/x-python",
      "name": "python",
      "nbconvert_exporter": "python",
      "pygments_lexer": "ipython3",
      "version": "3.7.3"
    },
    "colab": {
      "name": "3장_신경망시작하기.ipynb",
      "version": "0.3.2",
      "provenance": []
    }
  },
  "cells": [
    {
      "cell_type": "markdown",
      "metadata": {
        "id": "XUPwfsSKQzW9",
        "colab_type": "text"
      },
      "source": [
        "# 3장 신경망 시작하기\n",
        "\n",
        "[케라스 창시자에게 배우는 딥러닝] 책을 기반으로 제가 정리하고 요약한 내용입니다.\n",
        "하루에 한 chapter를 공부하고 요약합니다!"
      ]
    },
    {
      "cell_type": "markdown",
      "metadata": {
        "id": "TJ9S2KLJQzW_",
        "colab_type": "text"
      },
      "source": [
        "## 3.1 신경망의 구조\n",
        "\n",
        "신경망 훈련에는 다음 요소들이 관련되어 있습니다.\n",
        "* **네트워크(또는 모델)** 를 구성하는 **층**\n",
        "* **입력 데이터**와 그에 상응하는 타깃\n",
        "* 학습에 사용할 피드백 신호를 정의하는 **손실 함수**\n",
        "* 학습 진행 방식을 결정하는 **옵티마이저**"
      ]
    },
    {
      "cell_type": "code",
      "metadata": {
        "id": "e3QdLn2PQzXA",
        "colab_type": "code",
        "colab": {},
        "outputId": "c084cb7f-5134-4d70-f334-d886ad802c40"
      },
      "source": [
        "from IPython.display import Image\n",
        " \n",
        "Image(\"learning.jpg\")"
      ],
      "execution_count": 0,
      "outputs": [
        {
          "output_type": "execute_result",
          "data": {
            "image/jpeg": "[encoded data removed]",
            "text/plain": [
              "<IPython.core.display.Image object>"
            ]
          },
          "metadata": {
            "tags": []
          },
          "execution_count": 1
        }
      ]
    },
    {
      "cell_type": "markdown",
      "metadata": {
        "id": "O3oTI4LcQzXF",
        "colab_type": "text"
      },
      "source": [
        "### 3.1.1 층: 딥러닝의 구성 단위\n",
        "\n",
        "층(layer)은 하나 이상의 텐서를 입력으로 받아 하나 이상의 텐서를 출력하는 데이터 처리 모듈입니다. 대부분의 경우 **가중치**라는 층의 상태를 가집니다. 가중치는 **옵티마이저**에 의해 학습되는 하나 이상의 텐서이며 여기에 네트워크가 학습한 **지식**이 담겨 있습니다.\n",
        "\n",
        "층마다의 적절한 텐서포멧과 데이터 처리방식:\n",
        "* (samples, features) 크기의 2D 텐서(벡터) : **완전 연결 층**(fully connected layer)이나 **밀집 층**(dense layer)(Dense)\n",
        "* (samples, timesteps, features) 크기의 3D 텐서(시퀀스) : 보통 LSTM같은 **순환 층**(recurrent layer)\n",
        "* (samples, height, width, channels) 크기의 4D 텐서(이미지) : **2D 합성곱 층**(convolution layer)(Conv2D)\n",
        "\n",
        "케라스에서는 이러한 층을 딥러닝의 레고 블럭처럼 생각할 수 있습니다. 케라스에서는 **층 호환성**을 이용해 호환 가능한 층들을 엮어 데이터 변환 파이프라인을 구성함으로써 딥러닝 모델을 만듭니다."
      ]
    },
    {
      "cell_type": "code",
      "metadata": {
        "id": "OFsqAEOBQzXG",
        "colab_type": "code",
        "colab": {}
      },
      "source": [
        "from keras import models\n",
        "from keras import layers\n",
        "\n",
        "model = models.Sequential()\n",
        "model.add(layers.Dense(32, input_shape=(784,)))\n",
        "model.add(layers.Dense(10))"
      ],
      "execution_count": 0,
      "outputs": []
    },
    {
      "cell_type": "markdown",
      "metadata": {
        "id": "Q9fdjWjQQzXJ",
        "colab_type": "text"
      },
      "source": [
        "첫 번째 차원이 784인 2D 텐서만 입력 받는 층을 만들었습니다. 이 층은 첫 번째 차원 크기가 32이므로 32차원의 벡터를 입력으로 받는 하위 층이 연결되어야 합니다. 두 번째 층에는 input_shape 매개변수를 지정하지 않았지만 앞선 층의 출력 크기를 입력 크기로 자동으로 채택합니다."
      ]
    },
    {
      "cell_type": "markdown",
      "metadata": {
        "id": "b329CycWQzXK",
        "colab_type": "text"
      },
      "source": [
        "### 3.1.2 모델: 층의 네트워크\n",
        "\n",
        "딥러닝 모델은 층으로 만든 비순환 유향 그래프(Directed Acyclic Graph, DAG)입니다. 가장 일반적 예가 하나의 입력을 하나의 출력으로 매핑하는 층을 순서대로 쌓는 것입니다. 하지만 다양한 네트워크 구조가 있습니다.\n",
        "* 가지(branch)가 2개인 네트워크\n",
        "* 출력이 여러 개인 네트워크\n",
        "* 인셉션(Inception) 블록\n",
        "\n",
        "네트워크 구조는 **가설 공간**(hypothesis space)을 정의합니다. 네트워크 구조를 선택함으로써 가설 공간을 입력 데이터에서 출력 데이터로 매핑하는 일련의 특정 텐서 연산으로 제한하게 됩니다. 목표는 이런 텐서 연산에 포함된 가중치 텐서의 최적 값을 찾는 것 입니다."
      ]
    },
    {
      "cell_type": "markdown",
      "metadata": {
        "id": "OTAiXdcAQzXL",
        "colab_type": "text"
      },
      "source": [
        "### 3.1.3 손실 함수와 옵티마이저: 학습 과정을 조절하는 열쇠\n",
        "\n",
        "네트워크 구조를 저으이하고 나면 두 가지를 더 선택해야 합니다.\n",
        "* **손실 함수**(loss function) : 훈련하는 동안 최소화될 값입니다. 주어진 문제에 대한 성공 지표가 됩니다.\n",
        "* **옵티마이저**(optimizer) : 손실 함수를 기반으로 네트워크가 어떻게 업데이트될지 결정합니다. 특정 종류의 SGD를 구현합니다.\n",
        "\n",
        "문제에 맞는 올바른 손실 함수를 선택하는 것은 아주 중요합니다. 목적 함수가 주어진 문제의 성공과 전혀 관련이 없다면 원하지 않는 일을 수행하는 모델이 만들어질 것입니다.\n",
        "\n",
        "일반적인 문제에서는 간단한 지침이 있습니다.\n",
        "* 2개의 클래스 분류 문제 : 이진 크로스엔트로피(binary crossentropy)\n",
        "* 여러 개의 클래스 분류 문제 : 범주형 크로스엔트로피(categorical crossentropy)\n",
        "* 회귀 문제 : 평균 제곱 오차(mean square error)\n",
        "* 시퀀스 학습 문제 : CTC(Connection Temporal Classification)"
      ]
    },
    {
      "cell_type": "markdown",
      "metadata": {
        "id": "eiHdkx5zQzXN",
        "colab_type": "text"
      },
      "source": [
        "## 3.2 케라스 소개\n",
        "\n",
        "케라스는 텐서플로 다음으로 많이 쓴다고 나와있습니다. 사실 머신러닝/딥러닝 입문을 텐서플로로 했는데 어느날 케라스를 접하고 나서 너무나 간단한 모델에 놀랐었습니다. 어차피 텐서플로 2.0에는 tf.keras 밀어주니까 케라스 공부하기 좋은 것 같습니다."
      ]
    },
    {
      "cell_type": "markdown",
      "metadata": {
        "id": "owirLHxCQzXO",
        "colab_type": "text"
      },
      "source": [
        "### 3.2.1 케라스, 텐서플로, 씨아노, CNTK\n",
        "\n",
        "케라스는 딥러닝 모델을 만들기 위한 고수준의 구성 요소를 제공하는 모델 수준의 라이브러리입니다. 저는 백엔드 엔진으로 텐서플로 쓸겁니다."
      ]
    },
    {
      "cell_type": "markdown",
      "metadata": {
        "id": "S23JSuIkQzXP",
        "colab_type": "text"
      },
      "source": [
        "### 3.2.2 케라스를 사용한 개발: 빠르게 둘러보기\n",
        "\n",
        "전형적인 케라스 작업 흐름입니다.\n",
        "1. 입력 텐서와 타깃 텐서로 이루어진 훈련 데이터 정의\n",
        "2. 입력과 타깃을 매핑하는 층으로 이루어진 네트워크(또는 모델)를 정의\n",
        "3. 손실 함수, 옵티마이저, 모니터링하기 위한 측정 지표를 선택하여 학습 과정을 설정\n",
        "4. 훈련 데이터에 대해 모델의 fit() 메소드를 반복적으로 호출\n",
        "\n",
        "모델을 정의하는 방법은 두가지입니다.\n",
        "1. Sequential 클래스 : 층을 순서대로 쌓아 올린 네트워크\n",
        "2. 함수형 API : 완전히 임의의 구조를 만들 수 있는 비순환 유향 그래프"
      ]
    },
    {
      "cell_type": "code",
      "metadata": {
        "id": "mMdKVuvrQzXQ",
        "colab_type": "code",
        "colab": {}
      },
      "source": [
        "# Sequential 클래스 사용\n",
        "from keras import models\n",
        "from keras import layers\n",
        "\n",
        "model = models.Sequential()\n",
        "model.add(layers.Dense(32, activation='relu', input_shape=(784,)))\n",
        "model.add(layers.Dense(10, activation='softmax'))"
      ],
      "execution_count": 0,
      "outputs": []
    },
    {
      "cell_type": "code",
      "metadata": {
        "id": "0b9oUrAVQzXT",
        "colab_type": "code",
        "colab": {}
      },
      "source": [
        "# 함수형 API 사용\n",
        "input_tensor = layers.Input(shape=(784,))\n",
        "x = layers.Dense(32, activation='relu')(input_tensor)\n",
        "output_tensor = layers.Dense(10, activation='softmax')(x)\n",
        "\n",
        "model = models.Model(inputs=input_tensor, outputs=output_tensor)"
      ],
      "execution_count": 0,
      "outputs": []
    },
    {
      "cell_type": "markdown",
      "metadata": {
        "id": "wLUBihJoQzXW",
        "colab_type": "text"
      },
      "source": [
        "모델 구조가 정의된 후에는 동일한 단계를 거칩니다. 컴파일 단계에서 학습과정이 설정됩니다. 여기에서 모델이 사용할 옵티마이저와 손실 함수, 훈련하는 동안 모니터링하기 위해 필요한 측정 지표를 지정합니다. 마지막으로 입력 데이터의 넘파이 배열을 모델의 fit() 메소드에 전달함으로써 학습과정이 이루어집니다."
      ]
    },
    {
      "cell_type": "code",
      "metadata": {
        "id": "PSbORPejQzXX",
        "colab_type": "code",
        "colab": {}
      },
      "source": [
        "from keras import optimizers\n",
        "\n",
        "model.compile(optimizer=optimizers.RMSprop(lr=0.001),\n",
        "              loss='mse',\n",
        "              metrics=['accuracy'])\n",
        "\n",
        "model.fit(input_tensor, target_tensor, batch_size=128, epochs=10)"
      ],
      "execution_count": 0,
      "outputs": []
    },
    {
      "cell_type": "markdown",
      "metadata": {
        "id": "imOsvAvJQzXb",
        "colab_type": "text"
      },
      "source": [
        "## 3.3 딥러닝 컴퓨터 셋팅\n",
        "\n",
        "저는 로컬 컴퓨터가 CPU를 사용하기 때문에 사실 딥러닝을 공부하기에 많이 힘듭니다. 그래서 저는 구글의 코랩으로 GPU를 사용합니다! 물론 하루 최대 12시간 제한과 RAM제한 때문에 곤란한 상황이 많지만 그래도 공짜 GPU에 정말 만족합니다.. 코랩은 말안해도 다 아실거라 믿고 이부분은 넘어가겠습니다."
      ]
    },
    {
      "cell_type": "markdown",
      "metadata": {
        "id": "PHMeqi-nQzXc",
        "colab_type": "text"
      },
      "source": [
        "### 3.3.1 주피터 노트북: 딥러닝 실험을 위한 최적의 방법\n",
        "\n",
        "코랩은 ide가 주피터 노트북 형식입니다."
      ]
    },
    {
      "cell_type": "markdown",
      "metadata": {
        "id": "qJrfIlfYQzXd",
        "colab_type": "text"
      },
      "source": [
        "### 3.3.2 케라스 시작하기: 두가지 방법\n",
        "\n",
        "생략"
      ]
    },
    {
      "cell_type": "markdown",
      "metadata": {
        "id": "mcwk85i1QzXf",
        "colab_type": "text"
      },
      "source": [
        "### 3.3.3 클라우드에서 딥러닝 작업을 수행했을 때 장단점\n",
        "\n",
        "클라우드에서 실행하면 물론 가입하면 돈을 주긴하지만 오래 쓰려면 돈내야해서 그냥 코랩씁시다!"
      ]
    },
    {
      "cell_type": "markdown",
      "metadata": {
        "id": "98TuOVR4QzXh",
        "colab_type": "text"
      },
      "source": [
        "### 3.3.4 어떤 GPU 카드가 딥러닝에 최적일까?\n",
        "\n",
        "생략"
      ]
    },
    {
      "cell_type": "markdown",
      "metadata": {
        "id": "6uxza1JUQzXi",
        "colab_type": "text"
      },
      "source": [
        "## 3.4 영화 리뷰 분류: 이진 분류 예제\n",
        "\n",
        "리뷰 테스트를 기반으로 영화 리뷰를 긍정(positive)과 부정(negative)으로 분류하는 방법을 배우겠습니다."
      ]
    },
    {
      "cell_type": "markdown",
      "metadata": {
        "id": "YLqd6nxEQzXj",
        "colab_type": "text"
      },
      "source": [
        "### 3.4.1 IMDB 데이터셋\n",
        "\n",
        "인터넷 영화 데이터베이스(Internet Movie Database)로부터 가져온 양극단의 리뷰 5만개로 이루어진 IMDB 데이터셋을 사용하겠습니다. 이 데이터셋은 훈련 데이터 25,000개와 테스트 데이터 25,000개로 나뉘어 있고 각각 50%는 긍정, 50%는 부정 리뷰로 구성되어 있습니다."
      ]
    },
    {
      "cell_type": "code",
      "metadata": {
        "id": "ZRfClpV8QzXk",
        "colab_type": "code",
        "colab": {},
        "outputId": "bfbb047b-9159-4db3-a603-6ed025d9f36e"
      },
      "source": [
        "# 코드 3-1 IMDB 데이터셋 로드하기\n",
        "from keras.datasets import imdb\n",
        "\n",
        "(train_data, train_labels), (test_data, test_labels) = imdb.load_data(num_words=10000)"
      ],
      "execution_count": 0,
      "outputs": [
        {
          "output_type": "stream",
          "text": [
            "Using TensorFlow backend.\n"
          ],
          "name": "stderr"
        }
      ]
    },
    {
      "cell_type": "markdown",
      "metadata": {
        "id": "p0BGQ6VtQzXn",
        "colab_type": "text"
      },
      "source": [
        "```num_words=10000``` 는 훈련 데이터에서 가장 자주 나타나는 단어 1만 개만 사용하겠다는 의미입니다. 즉, 드물게 나타나는 단어는 무시하겠다는 의미입니다."
      ]
    },
    {
      "cell_type": "code",
      "metadata": {
        "id": "bVD-s_ENQzXo",
        "colab_type": "code",
        "colab": {},
        "outputId": "546e91db-fee0-46ac-ce94-debf70341628"
      },
      "source": [
        "max([max(sequence) for sequence in train_data]) # 1만 개로 제한했기 때문에 단어 인덱스는 9,999를 넘지 않습니다."
      ],
      "execution_count": 0,
      "outputs": [
        {
          "output_type": "execute_result",
          "data": {
            "text/plain": [
              "9999"
            ]
          },
          "metadata": {
            "tags": []
          },
          "execution_count": 2
        }
      ]
    },
    {
      "cell_type": "markdown",
      "metadata": {
        "id": "7H8p3zabQzXt",
        "colab_type": "text"
      },
      "source": [
        "### 3.4.2 데이터 준비\n",
        "\n",
        "신경망에 숫자 리스트를 주입할 수 없기 때문에 이 리스트를 텐서로 바꾸는 방법이 필요합니다.\n",
        "1. 같은 길이가 되도록 리스트에 패딩을 추가하고 (samples, sequence_length) 크기의 정수 텐서로 변환합니다. 그 다음 이 정수 텐서를 다룰 수 있는 층을 신경망의 첫 번째 층으로 사용합니다.(Embedding 층)\n",
        "2. 리스트를 원-핫 인코딩(one-hot encoding)하여 0과 1의 벡터로 변환합니다.\n",
        "\n",
        "여기선 2번째 방식을 사용합니다."
      ]
    },
    {
      "cell_type": "code",
      "metadata": {
        "id": "E55uSLn8QzXt",
        "colab_type": "code",
        "colab": {}
      },
      "source": [
        "# 코드 3-2 정수 시퀀스를 이진 행렬로 인코딩하기\n",
        "\n",
        "import numpy as np\n",
        "\n",
        "# one-hot encoding\n",
        "def vectorize_sequences(sequences, dimension=10000):\n",
        "    results = np.zeros((len(sequences), dimension))\n",
        "    for i, sequence in enumerate(sequences):\n",
        "        results[i, sequence] = 1.\n",
        "    return results\n",
        "\n",
        "x_train = vectorize_sequences(train_data)\n",
        "x_test = vectorize_sequences(test_data)\n",
        "\n",
        "y_train = np.asarray(train_labels).astype('float32')\n",
        "y_test = np.asarray(test_labels).astype('float32')"
      ],
      "execution_count": 0,
      "outputs": []
    },
    {
      "cell_type": "markdown",
      "metadata": {
        "id": "5Gkx77C1QzX1",
        "colab_type": "text"
      },
      "source": [
        "### 3.4.3 신경망 모델 만들기\n",
        "\n",
        "입력 데이터가 벡터고 레이블은 스칼라(1 또는 0)입니다. 이런 간단한 문제에 잘 작동하는 네트워크 종류는 relu 활성화 함수를 사용한 완전 연결 층  \n",
        "```(Dense(16, activation='relu'))```을 그냥 쌓은 것입니다. Dense 층에 전달한 매개변수(16)는 **은닉 유닛**(hidden unit)의 개수입니다.\n",
        "\n",
        "2장에서 relu 활성화 함수를 사용한 Dense 층을 다음 텐서 연산을 연결하여 구현했습니다."
      ]
    },
    {
      "cell_type": "code",
      "metadata": {
        "id": "izxwXF-zQzX1",
        "colab_type": "code",
        "colab": {}
      },
      "source": [
        "output = relu(dot(W, input) + b)"
      ],
      "execution_count": 0,
      "outputs": []
    },
    {
      "cell_type": "markdown",
      "metadata": {
        "id": "4ztMdqjWQzX4",
        "colab_type": "text"
      },
      "source": [
        "16개의 은닉 유닛이 있다는 것은 가중치 행렬 W의 크기가 (input_dimension, 16)이라는 뜻입니다. 은닉 유닛을 통해 신경망을 복잡하게 할 수도 있고 간단하게 할 수도 있습니다.\n",
        "\n",
        "Dense 층을 쌓을 때 두 가지 중요한 구조상의 결정이 필요합니다.\n",
        "* 얼마나 많은 층을 사용할 것인가?\n",
        "* 각 층에 얼마나 많은 은닉 유닛을 둘 것인가?\n",
        "\n",
        "4장에서 이런 결정을 하는데 도움이 되는 원리를 배웁니다. 여기선 일단 필자를 믿고 다음 구조를 사용합니다.\n",
        "* 16개의 은닉 유닛을 가진 2개의 은닉 층\n",
        "* 현재 리뷰의 감정을 스칼라 값의 예측으로 출력하는 세 번째 층\n",
        "\n",
        "중간에 있는 은닉 층은 활성화 함수로 **relu**를 사용하고 마지막 층은 출력값을 [0, 1] 사이의 확률로 출력해야 하므로 활성화 함수로 **sigmoid**를 사용합니다."
      ]
    },
    {
      "cell_type": "code",
      "metadata": {
        "collapsed": true,
        "id": "hChp-dnZQzX4",
        "colab_type": "code",
        "colab": {},
        "outputId": "47736aee-d10b-4354-92d3-68e6a0af8e6d"
      },
      "source": [
        "# 코드 3-3 모델 정의하기\n",
        "from keras import models\n",
        "from keras import layers\n",
        "\n",
        "model = models.Sequential()\n",
        "model.add(layers.Dense(16, activation='relu', input_shape=(10000,)))\n",
        "model.add(layers.Dense(16, activation='relu'))\n",
        "model.add(layers.Dense(1, activation='sigmoid'))"
      ],
      "execution_count": 0,
      "outputs": [
        {
          "output_type": "stream",
          "text": [
            "WARNING:tensorflow:From C:\\ProgramData\\Anaconda3\\lib\\site-packages\\tensorflow\\python\\framework\\op_def_library.py:263: colocate_with (from tensorflow.python.framework.ops) is deprecated and will be removed in a future version.\n",
            "Instructions for updating:\n",
            "Colocations handled automatically by placer.\n"
          ],
          "name": "stdout"
        }
      ]
    },
    {
      "cell_type": "markdown",
      "metadata": {
        "id": "ZwECVTbOQzX7",
        "colab_type": "text"
      },
      "source": [
        "**여기서 활성화 함수에 비선형 함수를 사용하는 이유는 무엇일까요?**\n",
        "\n",
        "저는 [밑바닥부터 시작하는 딥러닝]의 글귀를 인용해 보겠습니다.  \n",
        "```선형 함수인 h(x)=cx를 활성 함수로 사용한 3층 네트워크를 떠올려 보세요. 이를 식으로 나타내면 y(x)=h(h(h(x)))가 됩니다. 이 계산은 y(x)=c∗c∗c∗x처럼 세번의 곱셈을 수행하지만 실은 y(x)=ax와 똑같은 식입니다. a=c3이라고만 하면 끝이죠. 즉 히든레이어가 없는 네트워크로 표현할 수 있습니다. 그래서 층을 쌓는 혜택을 얻고 싶다면 활성함수로는 반드시 비선형함수를 사용해야 합니다.```"
      ]
    },
    {
      "cell_type": "markdown",
      "metadata": {
        "id": "KtRGEwUiQzX8",
        "colab_type": "text"
      },
      "source": [
        "이제 손실 함수와 옵티마이저를 선택해야 합니다.\n",
        "* 이진 분류 문제, 신경망의 출력이 확률 : binary_crossentropy (mean_squared_error도 사용 가능)\n",
        "* 옵티마이저 : RMSprop\n",
        "* 측정 지표 : accuracy"
      ]
    },
    {
      "cell_type": "code",
      "metadata": {
        "id": "OTnkJFRzQzX9",
        "colab_type": "code",
        "colab": {}
      },
      "source": [
        "# 코드 3-4 모델 컴파일하기\n",
        "model.compile(optimizer='rmsprop',\n",
        "              loss='binary_crossentropy',\n",
        "              metrics=['accuracy'])"
      ],
      "execution_count": 0,
      "outputs": []
    },
    {
      "cell_type": "markdown",
      "metadata": {
        "id": "hiWWme-aQzX_",
        "colab_type": "text"
      },
      "source": [
        "가끔 옵티마이저의 매개변수를 바꾸거나 자신만의 손실 함수, 측정 함수를 전달해야 할 경우가 있습니다."
      ]
    },
    {
      "cell_type": "code",
      "metadata": {
        "id": "xSZzc-NNQzYA",
        "colab_type": "code",
        "colab": {}
      },
      "source": [
        "# 코드 3-5 , 3-6 옵티마이저, 손실, 측정을 함수 객체로 지정하기\n",
        "from keras import optimizers\n",
        "from keras import losses\n",
        "from keras import metrics\n",
        "\n",
        "model.compile(optimizer=optimizers.RMSprop(lr=0.001),\n",
        "              loss=losses.binary_crossentropy,\n",
        "              metrics=[metrics.binary_accuracy])"
      ],
      "execution_count": 0,
      "outputs": []
    },
    {
      "cell_type": "markdown",
      "metadata": {
        "id": "GMotS33VQzYC",
        "colab_type": "text"
      },
      "source": [
        "### 3.4.4 훈련 검증\n",
        "\n",
        "훈련하는 동안 처음 본 데이터에 대한 모델의 정확도를 측정하기 위해서는 훈련 데이터에서 샘플을 떼어 검증 셋을 만들어야 합니다."
      ]
    },
    {
      "cell_type": "code",
      "metadata": {
        "id": "yWgroUs0QzYD",
        "colab_type": "code",
        "colab": {}
      },
      "source": [
        "# 코드 3-7 검증 세트 준비하기\n",
        "x_val = x_train[:10000]\n",
        "partial_x_train = x_train[10000:]\n",
        "y_val = y_train[:10000]\n",
        "partial_y_train = y_train[10000:]"
      ],
      "execution_count": 0,
      "outputs": []
    },
    {
      "cell_type": "markdown",
      "metadata": {
        "id": "GzUr0GuSQzYH",
        "colab_type": "text"
      },
      "source": [
        "사실 책에서는 이렇게 검증셋을 만들지만 저는 주로 sklearn의 train_test_split을 사용합니다."
      ]
    },
    {
      "cell_type": "markdown",
      "metadata": {
        "id": "WInc1aleQzYJ",
        "colab_type": "text"
      },
      "source": [
        "이제 모델을 512개의 샘플씩 미니 배치를 만들어 20번의 에포크 동안 훈련시킵니다. 동시에 따로 떼어 놓은 1만 개의 샘플에서 손실과 정확도를 측정할 것입니다. ```validation_data``` 매개변수에 검증 데이터를 넣으면 됩니다."
      ]
    },
    {
      "cell_type": "code",
      "metadata": {
        "scrolled": true,
        "id": "RDz8gNnnQzYL",
        "colab_type": "code",
        "colab": {},
        "outputId": "8e115496-1a14-45ec-d24a-573a2f6eadf7"
      },
      "source": [
        "# 코드 3-8 모델 훈련하기\n",
        "history = model.fit(partial_x_train,\n",
        "                    partial_y_train,\n",
        "                    epochs=20,\n",
        "                    batch_size=512,\n",
        "                    validation_data=(x_val, y_val))"
      ],
      "execution_count": 0,
      "outputs": [
        {
          "output_type": "stream",
          "text": [
            "WARNING:tensorflow:From C:\\ProgramData\\Anaconda3\\lib\\site-packages\\tensorflow\\python\\ops\\math_ops.py:3066: to_int32 (from tensorflow.python.ops.math_ops) is deprecated and will be removed in a future version.\n",
            "Instructions for updating:\n",
            "Use tf.cast instead.\n",
            "Train on 15000 samples, validate on 10000 samples\n",
            "Epoch 1/20\n",
            "15000/15000 [==============================] - 23s 2ms/step - loss: 0.5063 - acc: 0.7849 - val_loss: 0.3786 - val_acc: 0.8695\n",
            "Epoch 2/20\n",
            "15000/15000 [==============================] - 3s 214us/step - loss: 0.2994 - acc: 0.9053 - val_loss: 0.2999 - val_acc: 0.8903\n",
            "Epoch 3/20\n",
            "15000/15000 [==============================] - 3s 205us/step - loss: 0.2173 - acc: 0.9286 - val_loss: 0.3081 - val_acc: 0.8715\n",
            "Epoch 4/20\n",
            "15000/15000 [==============================] - 3s 206us/step - loss: 0.1745 - acc: 0.9439 - val_loss: 0.2840 - val_acc: 0.8841\n",
            "Epoch 5/20\n",
            "15000/15000 [==============================] - 3s 208us/step - loss: 0.1421 - acc: 0.9543 - val_loss: 0.2854 - val_acc: 0.8861\n",
            "Epoch 6/20\n",
            "15000/15000 [==============================] - 3s 205us/step - loss: 0.1147 - acc: 0.9656 - val_loss: 0.3110 - val_acc: 0.8787\n",
            "Epoch 7/20\n",
            "15000/15000 [==============================] - 3s 213us/step - loss: 0.0977 - acc: 0.9711 - val_loss: 0.3134 - val_acc: 0.8849\n",
            "Epoch 8/20\n",
            "15000/15000 [==============================] - 3s 213us/step - loss: 0.0806 - acc: 0.9765 - val_loss: 0.3861 - val_acc: 0.8656\n",
            "Epoch 9/20\n",
            "15000/15000 [==============================] - 4s 236us/step - loss: 0.0661 - acc: 0.9820 - val_loss: 0.3632 - val_acc: 0.8779\n",
            "Epoch 10/20\n",
            "15000/15000 [==============================] - 3s 232us/step - loss: 0.0559 - acc: 0.9852 - val_loss: 0.3847 - val_acc: 0.8787\n",
            "Epoch 11/20\n",
            "15000/15000 [==============================] - 4s 236us/step - loss: 0.0446 - acc: 0.9891 - val_loss: 0.4164 - val_acc: 0.8766\n",
            "Epoch 12/20\n",
            "15000/15000 [==============================] - 4s 240us/step - loss: 0.0385 - acc: 0.9913 - val_loss: 0.4522 - val_acc: 0.8698\n",
            "Epoch 13/20\n",
            "15000/15000 [==============================] - 4s 235us/step - loss: 0.0300 - acc: 0.9928 - val_loss: 0.4724 - val_acc: 0.8725\n",
            "Epoch 14/20\n",
            "15000/15000 [==============================] - 4s 244us/step - loss: 0.0246 - acc: 0.9947 - val_loss: 0.5046 - val_acc: 0.8714\n",
            "Epoch 15/20\n",
            "15000/15000 [==============================] - 3s 228us/step - loss: 0.0174 - acc: 0.9981 - val_loss: 0.5566 - val_acc: 0.8667\n",
            "Epoch 16/20\n",
            "15000/15000 [==============================] - 3s 221us/step - loss: 0.0147 - acc: 0.9979 - val_loss: 0.5962 - val_acc: 0.8647\n",
            "Epoch 17/20\n",
            "15000/15000 [==============================] - 3s 210us/step - loss: 0.0126 - acc: 0.9982 - val_loss: 0.6113 - val_acc: 0.8689\n",
            "Epoch 18/20\n",
            "15000/15000 [==============================] - 3s 215us/step - loss: 0.0114 - acc: 0.9974 - val_loss: 0.6396 - val_acc: 0.8679\n",
            "Epoch 19/20\n",
            "15000/15000 [==============================] - 3s 233us/step - loss: 0.0061 - acc: 0.9995 - val_loss: 0.7714 - val_acc: 0.8514\n",
            "Epoch 20/20\n",
            "15000/15000 [==============================] - 3s 217us/step - loss: 0.0061 - acc: 0.9997 - val_loss: 0.7090 - val_acc: 0.8650\n"
          ],
          "name": "stdout"
        }
      ]
    },
    {
      "cell_type": "markdown",
      "metadata": {
        "id": "P6nZM0OnQzYN",
        "colab_type": "text"
      },
      "source": [
        "model.fit() 메소드는 History 객체를 반환합니다. 이 객체는 훈련한느 동안 발생한 모든 정보를 담고 있는 딕셔너리인 History 속성을 가지고 있습니다.\n",
        "* acc : 훈련 정확도\n",
        "* loss : 훈련 손실값\n",
        "* val_acc : 검증 정확도\n",
        "* val_loss : 검증 손실값"
      ]
    },
    {
      "cell_type": "code",
      "metadata": {
        "id": "pEbilqTGQzYO",
        "colab_type": "code",
        "colab": {},
        "outputId": "16469f61-901d-47bb-fc43-26c5fc6f2b41"
      },
      "source": [
        "history_dict = history.history\n",
        "history_dict.keys()"
      ],
      "execution_count": 0,
      "outputs": [
        {
          "output_type": "execute_result",
          "data": {
            "text/plain": [
              "dict_keys(['val_loss', 'val_acc', 'loss', 'acc'])"
            ]
          },
          "metadata": {
            "tags": []
          },
          "execution_count": 8
        }
      ]
    },
    {
      "cell_type": "markdown",
      "metadata": {
        "id": "h3k9J8WrQzYQ",
        "colab_type": "text"
      },
      "source": [
        "이제 matplotlib을 사용하여 훈련과 검증 데이터에 대한 손실과 정확도를 그리겠습니다."
      ]
    },
    {
      "cell_type": "code",
      "metadata": {
        "id": "m0o06Q--QzYR",
        "colab_type": "code",
        "colab": {},
        "outputId": "fc0d85b0-f1d8-4fc4-acb8-9cee764c248f"
      },
      "source": [
        "# 코드 3-9 훈련과 검증 손실 그리기\n",
        "import matplotlib.pyplot as plt\n",
        "%matplotlib inline\n",
        "\n",
        "loss = history_dict['loss']\n",
        "val_loss = history_dict['val_loss']\n",
        "\n",
        "epochs = range(1, len(loss) + 1)\n",
        "\n",
        "plt.plot(epochs, loss, 'r', label='Training loss')\n",
        "plt.plot(epochs, val_loss, 'b', label='Validation loss')\n",
        "plt.title('Training and Validation loss')\n",
        "plt.xlabel('Epochs')\n",
        "plt.ylabel('Loss')\n",
        "plt.legend()\n",
        "\n",
        "plt.show()"
      ],
      "execution_count": 0,
      "outputs": [
        {
          "output_type": "display_data",
          "data": {
            "image/png": "[encoded data removed]",
            "text/plain": [
              "<Figure size 432x288 with 1 Axes>"
            ]
          },
          "metadata": {
            "tags": [],
            "needs_background": "light"
          }
        }
      ]
    },
    {
      "cell_type": "code",
      "metadata": {
        "id": "wMr_mX2AQzYU",
        "colab_type": "code",
        "colab": {},
        "outputId": "82f34896-2c54-4f16-dba4-74a811cdf2e0"
      },
      "source": [
        "# 코드 3-10 훈련과 검증 정확도 그리기\n",
        "plt.clf() # 그래프 초기화\n",
        "\n",
        "acc = history_dict['acc']\n",
        "val_acc = history_dict['val_acc']\n",
        "\n",
        "plt.plot(epochs, acc, 'r', label='Training acc')\n",
        "plt.plot(epochs, val_acc, 'b', label='Validation acc')\n",
        "plt.title('Training and validation accuracy')\n",
        "plt.xlabel('Epochs')\n",
        "plt.ylabel('Accuracy')\n",
        "plt.legend()\n",
        "\n",
        "plt.show()"
      ],
      "execution_count": 0,
      "outputs": [
        {
          "output_type": "display_data",
          "data": {
            "image/png": "[encoded data removed]",
            "text/plain": [
              "<Figure size 432x288 with 1 Axes>"
            ]
          },
          "metadata": {
            "tags": [],
            "needs_background": "light"
          }
        }
      ]
    },
    {
      "cell_type": "markdown",
      "metadata": {
        "id": "wgEbVVPbQzYW",
        "colab_type": "text"
      },
      "source": [
        "훈련에 대한 결과는 기대했던 대로 나왔지만, 검증 손실과 정확도는 이와 같지 않습니다. 2번째 에포크 이후 부터 훈련 데이터에 과도하게 최적화되어 훈련 데이터에 특화된 표현을 학습하므로 훈련 세트 이외의 데이터에는 일반화되지 못합니다. 이것을 **과대적합(overfitting)** 되었다고 합니다. 4번째 에포크에서 그래프가 역전되는 것 같으므로 오버피팅을 방지하기 위해 4번째 에포크까지 훈련을 다시 진행합니다."
      ]
    },
    {
      "cell_type": "code",
      "metadata": {
        "id": "RevA--0vQzYX",
        "colab_type": "code",
        "colab": {},
        "outputId": "41fe5fab-657f-4181-818b-513812511111"
      },
      "source": [
        "# 코드 3-11 모델을 처음부터 다시 훈련하기\n",
        "model = models.Sequential()\n",
        "model.add(layers.Dense(16, activation='relu', input_shape=(10000,)))\n",
        "model.add(layers.Dense(16, activation='relu'))\n",
        "model.add(layers.Dense(1, activation='sigmoid'))\n",
        "\n",
        "model.compile(optimizer='rmsprop',\n",
        "               loss='binary_crossentropy',\n",
        "               metrics=['accuracy'])\n",
        "\n",
        "model.fit(x_train, y_train, epochs=4, batch_size=512)\n",
        "results = model.evaluate(x_test, y_test)"
      ],
      "execution_count": 0,
      "outputs": [
        {
          "output_type": "stream",
          "text": [
            "Epoch 1/4\n",
            "25000/25000 [==============================] - 26s 1ms/step - loss: 0.4748 - acc: 0.8210\n",
            "Epoch 2/4\n",
            "25000/25000 [==============================] - 4s 146us/step - loss: 0.2670 - acc: 0.9098\n",
            "Epoch 3/4\n",
            "25000/25000 [==============================] - 4s 149us/step - loss: 0.1990 - acc: 0.9291\n",
            "Epoch 4/4\n",
            "25000/25000 [==============================] - 4s 143us/step - loss: 0.1682 - acc: 0.9398\n",
            "25000/25000 [==============================] - 60s 2ms/step\n"
          ],
          "name": "stdout"
        }
      ]
    },
    {
      "cell_type": "code",
      "metadata": {
        "id": "LFoliVyMQzYZ",
        "colab_type": "code",
        "colab": {},
        "outputId": "ca1cdfa5-9fc7-4e60-d34e-e7fccf39d340"
      },
      "source": [
        "# 최종 결과\n",
        "results"
      ],
      "execution_count": 0,
      "outputs": [
        {
          "output_type": "execute_result",
          "data": {
            "text/plain": [
              "[0.3219839047527313, 0.87364]"
            ]
          },
          "metadata": {
            "tags": []
          },
          "execution_count": 14
        }
      ]
    },
    {
      "cell_type": "markdown",
      "metadata": {
        "id": "FZxOElefQzYb",
        "colab_type": "text"
      },
      "source": [
        "### 3.4.5 훈련된 모델로 새로운 데이터에 대해 예측하기\n",
        "\n",
        "predict 메소드를 사용해서 어떤 리뷰가 긍정이 확률을 예측할 수 있습니다."
      ]
    },
    {
      "cell_type": "code",
      "metadata": {
        "id": "9NZ3m3OGQzYc",
        "colab_type": "code",
        "colab": {},
        "outputId": "6839c9f1-210c-4ce9-a64b-ff7ad3bc03d7"
      },
      "source": [
        "model.predict(x_test)"
      ],
      "execution_count": 0,
      "outputs": [
        {
          "output_type": "execute_result",
          "data": {
            "text/plain": [
              "array([[0.1379812 ],\n",
              "       [0.99973017],\n",
              "       [0.29972482],\n",
              "       ...,\n",
              "       [0.07407886],\n",
              "       [0.04328284],\n",
              "       [0.4806445 ]], dtype=float32)"
            ]
          },
          "metadata": {
            "tags": []
          },
          "execution_count": 15
        }
      ]
    },
    {
      "cell_type": "markdown",
      "metadata": {
        "id": "41Akd4hTQzYf",
        "colab_type": "text"
      },
      "source": [
        "이 모델은 어떤 샘플에 대해 확신을 갖고 있지만(0.99 또는 그 이상, 0.01 또는 그 이하) 어떤 샘플에 대해서는 확신이 부족합니다(0.48, 0.29)."
      ]
    },
    {
      "cell_type": "markdown",
      "metadata": {
        "id": "N8BNxavUQzYh",
        "colab_type": "text"
      },
      "source": [
        "### 3.4.6 추가 실험\n",
        "\n",
        "생략"
      ]
    },
    {
      "cell_type": "markdown",
      "metadata": {
        "id": "DQ7bBSRIQzYi",
        "colab_type": "text"
      },
      "source": [
        "### 3.4.7 정리\n",
        "\n",
        "* 원본 데이터를 신경망에 텐서로 주입하기 위해서는 많은 **전처리**가 필요합니다.\n",
        "* 이진 분류 문제에서 네트워크는 하나의 유닛과 sigmoid 활성화 함수를 가진 Dense 층으로 끝나야 합니다.\n",
        "* 이진 분류 문제에서 이런 스칼라 시그모이드 출력에 대해 사용할 손실 함수는 binary_crossentropy입니다.\n",
        "* rmsprop 옵티마이저는 문제에 상관없이 일반적으로 충분히 좋은 선택입니다.\n",
        "* 오버피팅을 막기 위해서는 항상 훈련 셋 이외의 데이터에서 성능을 모니터링해야 합니다."
      ]
    },
    {
      "cell_type": "markdown",
      "metadata": {
        "id": "w1Rv91mIQzYk",
        "colab_type": "text"
      },
      "source": [
        "## 3.5 뉴스 기사 분류: 다중 분류 문제\n",
        "\n",
        "이번엔 2개 이상의 클래스, 즉 **다중 분류**(multiclass classification)의 예입니다. 로이터 뉴스를 46개의 토픽으로 분류하는 신경망을 만들어 보겠습니다.  \n",
        "각 데이터 포인트가 정확히 하나의 범주로 분류되기 때문에 **단일 레이블 다중 분류** 문제입니다."
      ]
    },
    {
      "cell_type": "markdown",
      "metadata": {
        "id": "M5lA47DmQzYl",
        "colab_type": "text"
      },
      "source": [
        "### 3.5.1 로이터 데이터셋\n",
        "\n",
        "1986년 로이터에서 공개한 짧은 뉴스 기사와 토픽의 집합인 로이터 데이터셋을 사용합니다. 46개의 토픽이 있으며 토픽의 데이터 수는 서로 다릅니다. 각 토픽은 훈련 세트에 최소한 10개의 샘플을 가지고 있습니다."
      ]
    },
    {
      "cell_type": "code",
      "metadata": {
        "id": "DLWb5XoPQzYl",
        "colab_type": "code",
        "colab": {},
        "outputId": "073662c0-b875-4383-bc06-40b07a959300"
      },
      "source": [
        "# 코드 3-12 로이터 데이터셋 로드하기\n",
        "from keras.datasets import reuters\n",
        "\n",
        "(train_data, train_labels), (test_data, test_labels) = reuters.load_data(num_words=10000)"
      ],
      "execution_count": 0,
      "outputs": [
        {
          "output_type": "stream",
          "text": [
            "Using TensorFlow backend.\n"
          ],
          "name": "stderr"
        }
      ]
    },
    {
      "cell_type": "markdown",
      "metadata": {
        "id": "JeMJWrEQQzYo",
        "colab_type": "text"
      },
      "source": [
        "IMDB 데이터셋처럼 ```num_words=10000``` 매개변수는 데이터에서 가장 자주 등장하는 단어 1만 개로 제한합니다."
      ]
    },
    {
      "cell_type": "code",
      "metadata": {
        "id": "H-B8YBoQQzYp",
        "colab_type": "code",
        "colab": {},
        "outputId": "e4521c80-0755-4c7a-aca0-6e4bd7cde893"
      },
      "source": [
        "print('훈련 샘플: ',len(train_data))\n",
        "print('테스트 샘플: ',len(test_data))"
      ],
      "execution_count": 0,
      "outputs": [
        {
          "output_type": "stream",
          "text": [
            "훈련 샘플:  8982\n",
            "테스트 샘플:  2246\n"
          ],
          "name": "stdout"
        }
      ]
    },
    {
      "cell_type": "markdown",
      "metadata": {
        "id": "BL4Mx3HfQzYs",
        "colab_type": "text"
      },
      "source": [
        "### 3.5.2 데이터 준비\n",
        "\n",
        "IMDB 데이터셋처럼 데이터를 벡터로 변환합니다. 이번엔 레이블의 리스트를 정수 텐서로 변환하는 것 대신에 원-핫 인코딩을 사용하겠습니다."
      ]
    },
    {
      "cell_type": "code",
      "metadata": {
        "id": "K4ZG9VwhQzYt",
        "colab_type": "code",
        "colab": {}
      },
      "source": [
        "# 코드 3-14 데이터 인코딩하기\n",
        "import numpy as np\n",
        "\n",
        "def vectorize_sequences(sequences, dimension=10000):\n",
        "    results = np.zeros((len(sequences), dimension))\n",
        "    for i, sequence in enumerate(sequences):\n",
        "        results[i, sequence] = 1.\n",
        "    return results\n",
        "\n",
        "x_train = vectorize_sequences(train_data)\n",
        "x_test = vectorize_sequences(test_data)\n",
        "\n",
        "# 레이블 벡터 변환\n",
        "def to_one_hot(labels, dimension=46):\n",
        "    results = np.zeros((len(labels), dimension))\n",
        "    for i, label in enumerate(labels):\n",
        "        results[i, label] = 1.\n",
        "    return results\n",
        "\n",
        "one_hot_train_labels = to_one_hot(train_labels)\n",
        "one_hot_test_labels = to_one_hot(test_labels)"
      ],
      "execution_count": 0,
      "outputs": []
    },
    {
      "cell_type": "markdown",
      "metadata": {
        "id": "IATgyPSqQzYv",
        "colab_type": "text"
      },
      "source": [
        "케라스에는 이미 이를 위한 내장 함수가 있습니다."
      ]
    },
    {
      "cell_type": "code",
      "metadata": {
        "id": "51Fi6ViIQzYw",
        "colab_type": "code",
        "colab": {}
      },
      "source": [
        "from keras.utils.np_utils import to_categorical\n",
        "\n",
        "one_hot_train_labels = to_categorical(train_labels)\n",
        "one_hot_test_labels = to_categorical(test_labels)"
      ],
      "execution_count": 0,
      "outputs": []
    },
    {
      "cell_type": "markdown",
      "metadata": {
        "id": "-dos-J-CQzY0",
        "colab_type": "text"
      },
      "source": [
        "### 3.5.3 모델 구성\n",
        "\n",
        "IMDB와는 다른 점이 출력 클래스의 개수가 2에서 46개로 늘어난 점입니다. 이전에 사용했던 것처럼 Dense 층을 쌓으면 정보의 병목(information bottleneck)이 될 수 있습니다. 이전에는 16차원을 가진 중간층을 사용했지만 16차원 공간은 46개의 클래스를 구분하기에 너무 제약이 많습니다. 그러므로 이번엔 좀 더 큰 64개의 유닛을 사용합니다."
      ]
    },
    {
      "cell_type": "code",
      "metadata": {
        "id": "37zN2JjBQzY2",
        "colab_type": "code",
        "colab": {},
        "outputId": "72f069f0-20e9-4333-a9e3-49b3b4def2f5"
      },
      "source": [
        "# 코드 3-15 모델 정의하기\n",
        "from keras import models\n",
        "from keras import layers\n",
        "\n",
        "model = models.Sequential()\n",
        "model.add(layers.Dense(64, activation='relu', input_shape=(10000,)))\n",
        "model.add(layers.Dense(64, activation='relu'))\n",
        "model.add(layers.Dense(46, activation='softmax'))"
      ],
      "execution_count": 0,
      "outputs": [
        {
          "output_type": "stream",
          "text": [
            "WARNING:tensorflow:From C:\\ProgramData\\Anaconda3\\lib\\site-packages\\tensorflow\\python\\framework\\op_def_library.py:263: colocate_with (from tensorflow.python.framework.ops) is deprecated and will be removed in a future version.\n",
            "Instructions for updating:\n",
            "Colocations handled automatically by placer.\n"
          ],
          "name": "stdout"
        }
      ]
    },
    {
      "cell_type": "markdown",
      "metadata": {
        "id": "Lyl49AeNQzY7",
        "colab_type": "text"
      },
      "source": [
        "여기서 주목해야 할 점이 2가지 있습니다.\n",
        "* 마지막 Dense 층의 크기가 46입니다. 각 입력 샘플에 대해서 46차원의 벡터를 출력한다는 뜻입니다.\n",
        "* 마지막 층에 softmax 활성화 함수를 사용했습니다. 이는 각 입력 샘플마다 46개의 출력 클래스에 대한 확률 분포를 출력합니다. 모두 더하면 1입니다.\n",
        "\n",
        "이런 문제에서 사용할 최선의 손실 함수는 **categorical_crossentropy**입니다. 이 함수는 네트워크가 출력한 확률 분포와 진짜 레이블의 분포 사이의 거리를 측정하고 이 거리를 최소화하도록 모델을 훈련합니다."
      ]
    },
    {
      "cell_type": "code",
      "metadata": {
        "id": "2NB-5RLvQzY8",
        "colab_type": "code",
        "colab": {}
      },
      "source": [
        "# 코드 3-16 모델 컴파일하기\n",
        "model.compile(optimizer='rmsprop',\n",
        "              loss='categorical_crossentropy',\n",
        "              metrics=['accuracy'])"
      ],
      "execution_count": 0,
      "outputs": []
    },
    {
      "cell_type": "markdown",
      "metadata": {
        "id": "W5j778b-QzY-",
        "colab_type": "text"
      },
      "source": [
        "### 3.5.4 훈련 검증\n",
        "\n",
        "훈련 데이터에서 1,000개의 샘플을 검증 셋으로 사용합니다."
      ]
    },
    {
      "cell_type": "code",
      "metadata": {
        "id": "WaBQjva-QzY-",
        "colab_type": "code",
        "colab": {}
      },
      "source": [
        "# 코드 3-17 검증 세트 준비하기\n",
        "x_val = x_train[:1000]\n",
        "partial_x_train = x_train[1000:]\n",
        "\n",
        "y_val = one_hot_train_labels[:1000]\n",
        "partial_y_train = one_hot_train_labels[1000:]"
      ],
      "execution_count": 0,
      "outputs": []
    },
    {
      "cell_type": "markdown",
      "metadata": {
        "id": "dIlZbA3fQzZA",
        "colab_type": "text"
      },
      "source": [
        "이제 20번의 에포크로 모델을 훈련시킵니다."
      ]
    },
    {
      "cell_type": "code",
      "metadata": {
        "scrolled": true,
        "id": "Bxb9DG2jQzZB",
        "colab_type": "code",
        "colab": {},
        "outputId": "913f8177-f7f6-43d6-8eec-b675efd35bdb"
      },
      "source": [
        "# 코드 3-18 모델 훈련하기\n",
        "history = model.fit(partial_x_train,\n",
        "                    partial_y_train,\n",
        "                    epochs=20,\n",
        "                    batch_size=512,\n",
        "                    validation_data=(x_val, y_val))"
      ],
      "execution_count": 0,
      "outputs": [
        {
          "output_type": "stream",
          "text": [
            "WARNING:tensorflow:From C:\\ProgramData\\Anaconda3\\lib\\site-packages\\tensorflow\\python\\ops\\math_ops.py:3066: to_int32 (from tensorflow.python.ops.math_ops) is deprecated and will be removed in a future version.\n",
            "Instructions for updating:\n",
            "Use tf.cast instead.\n",
            "Train on 7982 samples, validate on 1000 samples\n",
            "Epoch 1/20\n",
            "7982/7982 [==============================] - 2s 304us/step - loss: 2.5285 - acc: 0.4969 - val_loss: 1.7217 - val_acc: 0.6080\n",
            "Epoch 2/20\n",
            "7982/7982 [==============================] - 2s 229us/step - loss: 1.4457 - acc: 0.6879 - val_loss: 1.3470 - val_acc: 0.7090\n",
            "Epoch 3/20\n",
            "7982/7982 [==============================] - 2s 248us/step - loss: 1.0951 - acc: 0.7648 - val_loss: 1.1700 - val_acc: 0.7420\n",
            "Epoch 4/20\n",
            "7982/7982 [==============================] - 2s 278us/step - loss: 0.8690 - acc: 0.8158 - val_loss: 1.0822 - val_acc: 0.7580\n",
            "Epoch 5/20\n",
            "7982/7982 [==============================] - 2s 243us/step - loss: 0.7030 - acc: 0.8478 - val_loss: 0.9848 - val_acc: 0.7810\n",
            "Epoch 6/20\n",
            "7982/7982 [==============================] - ETA: 0s - loss: 0.5676 - acc: 0.879 - 2s 232us/step - loss: 0.5671 - acc: 0.8797 - val_loss: 0.9422 - val_acc: 0.8030\n",
            "Epoch 7/20\n",
            "7982/7982 [==============================] - 2s 231us/step - loss: 0.4604 - acc: 0.9030 - val_loss: 0.9106 - val_acc: 0.8020\n",
            "Epoch 8/20\n",
            "7982/7982 [==============================] - 2s 236us/step - loss: 0.3708 - acc: 0.9225 - val_loss: 0.9379 - val_acc: 0.7860\n",
            "Epoch 9/20\n",
            "7982/7982 [==============================] - 2s 247us/step - loss: 0.3040 - acc: 0.9311 - val_loss: 0.8937 - val_acc: 0.8080\n",
            "Epoch 10/20\n",
            "7982/7982 [==============================] - 2s 241us/step - loss: 0.2543 - acc: 0.9420 - val_loss: 0.9101 - val_acc: 0.8120\n",
            "Epoch 11/20\n",
            "7982/7982 [==============================] - 2s 241us/step - loss: 0.2188 - acc: 0.9471 - val_loss: 0.9214 - val_acc: 0.8110\n",
            "Epoch 12/20\n",
            "7982/7982 [==============================] - 2s 250us/step - loss: 0.1878 - acc: 0.9511 - val_loss: 0.9068 - val_acc: 0.8170\n",
            "Epoch 13/20\n",
            "7982/7982 [==============================] - 2s 257us/step - loss: 0.1703 - acc: 0.9530 - val_loss: 0.9367 - val_acc: 0.8110\n",
            "Epoch 14/20\n",
            "7982/7982 [==============================] - 2s 248us/step - loss: 0.1539 - acc: 0.9559 - val_loss: 0.9676 - val_acc: 0.8080\n",
            "Epoch 15/20\n",
            "7982/7982 [==============================] - 2s 259us/step - loss: 0.1392 - acc: 0.9560 - val_loss: 0.9719 - val_acc: 0.8130\n",
            "Epoch 16/20\n",
            "7982/7982 [==============================] - 2s 262us/step - loss: 0.1319 - acc: 0.9560 - val_loss: 1.0328 - val_acc: 0.8040\n",
            "Epoch 17/20\n",
            "7982/7982 [==============================] - 2s 282us/step - loss: 0.1221 - acc: 0.9577 - val_loss: 1.0293 - val_acc: 0.7980\n",
            "Epoch 18/20\n",
            "7982/7982 [==============================] - 2s 259us/step - loss: 0.1201 - acc: 0.9577 - val_loss: 1.0471 - val_acc: 0.8060\n",
            "Epoch 19/20\n",
            "7982/7982 [==============================] - 2s 262us/step - loss: 0.1143 - acc: 0.9592 - val_loss: 1.1024 - val_acc: 0.7980\n",
            "Epoch 20/20\n",
            "7982/7982 [==============================] - 2s 246us/step - loss: 0.1116 - acc: 0.9595 - val_loss: 1.0735 - val_acc: 0.8020\n"
          ],
          "name": "stdout"
        }
      ]
    },
    {
      "cell_type": "markdown",
      "metadata": {
        "id": "CkK-ga3GQzZF",
        "colab_type": "text"
      },
      "source": [
        "손실과 정확도 곡선을 그립니다."
      ]
    },
    {
      "cell_type": "code",
      "metadata": {
        "id": "JMr3igajQzZG",
        "colab_type": "code",
        "colab": {},
        "outputId": "8ed32db3-ef3c-458a-abfe-3977bd04aa28"
      },
      "source": [
        "# 코드 3-19 훈련과 검증 손실 그리기\n",
        "import matplotlib.pyplot as plt\n",
        "%matplotlib inline\n",
        "\n",
        "loss = history.history['loss']\n",
        "val_loss = history.history['val_loss']\n",
        "\n",
        "epochs = range(1, len(loss) + 1)\n",
        "\n",
        "plt.plot(epochs, loss, 'r', label='Training loss')\n",
        "plt.plot(epochs, val_loss, 'b', label='Validation loss')\n",
        "plt.title('Training and validation loss')\n",
        "plt.xlabel('Epochs')\n",
        "plt.ylabel('Loss')\n",
        "plt.legend()\n",
        "\n",
        "plt.show()"
      ],
      "execution_count": 0,
      "outputs": [
        {
          "output_type": "display_data",
          "data": {
            "image/png": "[encoded data removed]",
            "text/plain": [
              "<Figure size 432x288 with 1 Axes>"
            ]
          },
          "metadata": {
            "tags": [],
            "needs_background": "light"
          }
        }
      ]
    },
    {
      "cell_type": "code",
      "metadata": {
        "id": "jJvh7HmKQzZL",
        "colab_type": "code",
        "colab": {},
        "outputId": "9300b8cb-1403-44ee-f598-3319a9c46c0f"
      },
      "source": [
        "# 코드 3-20 훈련과 검증 정확도 그리기\n",
        "plt.clf()\n",
        "\n",
        "acc = history.history['acc']\n",
        "val_acc = history.history['val_acc']\n",
        "\n",
        "plt.plot(epochs, acc, 'r', label='Training acc')\n",
        "plt.plot(epochs, val_acc, 'b', label='Validation acc')\n",
        "plt.title('Training and validation accuracy')\n",
        "plt.xlabel('Epochs')\n",
        "plt.ylabel('Accuracy')\n",
        "plt.legend()\n",
        "\n",
        "plt.show()"
      ],
      "execution_count": 0,
      "outputs": [
        {
          "output_type": "display_data",
          "data": {
            "image/png": "[encoded data removed]",
            "text/plain": [
              "<Figure size 432x288 with 1 Axes>"
            ]
          },
          "metadata": {
            "tags": [],
            "needs_background": "light"
          }
        }
      ]
    },
    {
      "cell_type": "markdown",
      "metadata": {
        "id": "pInFXyZYQzZU",
        "colab_type": "text"
      },
      "source": [
        "이 모델은 9번째 에포크 이후에 오버피팅이 시작됩니다. 9번째 에포크로 새로운 모델을 훈련하고 테스트 셋에서 평가하겠습니다."
      ]
    },
    {
      "cell_type": "code",
      "metadata": {
        "scrolled": true,
        "id": "kkoDnC1WQzZV",
        "colab_type": "code",
        "colab": {},
        "outputId": "3f1be4d4-9774-48a5-9990-3caae9ace580"
      },
      "source": [
        "# 코드 3-21 모델을 처음부터 다시 훈련하기\n",
        "model = models.Sequential()\n",
        "model.add(layers.Dense(64, activation='relu', input_shape=(10000,)))\n",
        "model.add(layers.Dense(64, activation='relu'))\n",
        "model.add(layers.Dense(46, activation='softmax'))\n",
        "\n",
        "model.compile(optimizer='rmsprop',\n",
        "              loss='categorical_crossentropy',\n",
        "              metrics=['accuracy'])\n",
        "\n",
        "model.fit(partial_x_train,\n",
        "          partial_y_train,\n",
        "          epochs=9,\n",
        "          batch_size=512,\n",
        "          validation_data=(x_val, y_val))\n",
        "\n",
        "results = model.evaluate(x_test, one_hot_test_labels)"
      ],
      "execution_count": 0,
      "outputs": [
        {
          "output_type": "stream",
          "text": [
            "Train on 7982 samples, validate on 1000 samples\n",
            "Epoch 1/9\n",
            "7982/7982 [==============================] - 2s 309us/step - loss: 2.5407 - acc: 0.5228 - val_loss: 1.6816 - val_acc: 0.6520\n",
            "Epoch 2/9\n",
            "7982/7982 [==============================] - 2s 231us/step - loss: 1.3793 - acc: 0.7103 - val_loss: 1.2818 - val_acc: 0.7250\n",
            "Epoch 3/9\n",
            "7982/7982 [==============================] - 2s 235us/step - loss: 1.0229 - acc: 0.7784 - val_loss: 1.1369 - val_acc: 0.7480\n",
            "Epoch 4/9\n",
            "7982/7982 [==============================] - 2s 231us/step - loss: 0.8056 - acc: 0.8237 - val_loss: 1.0587 - val_acc: 0.7580\n",
            "Epoch 5/9\n",
            "7982/7982 [==============================] - 2s 240us/step - loss: 0.6459 - acc: 0.8612 - val_loss: 0.9755 - val_acc: 0.7970\n",
            "Epoch 6/9\n",
            "7982/7982 [==============================] - 2s 254us/step - loss: 0.5157 - acc: 0.8915 - val_loss: 0.9116 - val_acc: 0.8140\n",
            "Epoch 7/9\n",
            "7982/7982 [==============================] - 2s 268us/step - loss: 0.4142 - acc: 0.9153 - val_loss: 0.8946 - val_acc: 0.8230\n",
            "Epoch 8/9\n",
            "7982/7982 [==============================] - 2s 257us/step - loss: 0.3373 - acc: 0.9283 - val_loss: 0.8758 - val_acc: 0.8280\n",
            "Epoch 9/9\n",
            "7982/7982 [==============================] - 2s 270us/step - loss: 0.2800 - acc: 0.9365 - val_loss: 0.9432 - val_acc: 0.8020\n",
            "2246/2246 [==============================] - 1s 410us/step\n"
          ],
          "name": "stdout"
        }
      ]
    },
    {
      "cell_type": "code",
      "metadata": {
        "id": "Em-M9lG_QzZZ",
        "colab_type": "code",
        "colab": {},
        "outputId": "56814c66-a3a2-41eb-8d93-a609ebe846ca"
      },
      "source": [
        "results"
      ],
      "execution_count": 0,
      "outputs": [
        {
          "output_type": "execute_result",
          "data": {
            "text/plain": [
              "[1.0258506061981962, 0.7756010686194165]"
            ]
          },
          "metadata": {
            "tags": []
          },
          "execution_count": 11
        }
      ]
    },
    {
      "cell_type": "markdown",
      "metadata": {
        "id": "B6GsHpd-QzZc",
        "colab_type": "text"
      },
      "source": [
        "### 3.5.5 새로운 데이터에 대해 예측하기\n",
        "\n",
        "생략"
      ]
    },
    {
      "cell_type": "markdown",
      "metadata": {
        "id": "4giOibqEQzZe",
        "colab_type": "text"
      },
      "source": [
        "### 3.5.6 레이블과 손실을 다루는 방법\n",
        "\n",
        "앞서 언급한 것처럼 레이블을 인코딩 하는 다른 방법은 정수 텐서로 변환하는 것입니다."
      ]
    },
    {
      "cell_type": "code",
      "metadata": {
        "id": "q0QfRyNLQzZf",
        "colab_type": "code",
        "colab": {}
      },
      "source": [
        "y_train = np.array(train_labels)\n",
        "y_test = np.array(test_labels)"
      ],
      "execution_count": 0,
      "outputs": []
    },
    {
      "cell_type": "markdown",
      "metadata": {
        "id": "4vtnJhnSQzZh",
        "colab_type": "text"
      },
      "source": [
        "위 방식을 사용하려면 손실 함수 하나만 바꾸면 됩니다. 정수 레이블을 사용할때는 sparse_categorical_crossentropy를 사용해야 합니다. 이 손실 함수는 인터페이스만 다를 뿐 수학적으로는 categorical_crossentropy와 동일합니다."
      ]
    },
    {
      "cell_type": "code",
      "metadata": {
        "id": "_YPsVId2QzZi",
        "colab_type": "code",
        "colab": {}
      },
      "source": [
        "model.compile(optimizer='rmsprop',\n",
        "              loss='sparse_categorical_crossentropy',\n",
        "              metrics=['acc'])"
      ],
      "execution_count": 0,
      "outputs": []
    },
    {
      "cell_type": "markdown",
      "metadata": {
        "id": "zXquolthQzZl",
        "colab_type": "text"
      },
      "source": [
        "### 3.5.7 충분히 큰 중간층을 두어야 하는 이유\n",
        "\n",
        "마지막 출력이 46차원이기 때문에 중간층의 히든 유닛이 46개보다 많이 적어서는 안됩니다. 46차원보다 훨씬 작은 중간층(예를 들면 4차원)을 두면 검증 정확도의 값은 약 71%로 원래보다 8%가 정도 감소되었습니다. 이렇게 정보의 병목현상이 일어날 수 있습니다."
      ]
    },
    {
      "cell_type": "markdown",
      "metadata": {
        "id": "vEP9qkr9QzZo",
        "colab_type": "text"
      },
      "source": [
        "### 3.5.8 추가 실험\n",
        "\n",
        "생략"
      ]
    },
    {
      "cell_type": "markdown",
      "metadata": {
        "id": "35d1S0FjQzZr",
        "colab_type": "text"
      },
      "source": [
        "### 3.5.9 정리\n",
        "\n",
        "* N개의 클래스로 데이터 포인트를 분류하려면 네트워크의 마지막 Dense 층의 크기는 N이어야 합니다.\n",
        "* 단일 레이블, 다중 분류 문제에서는 softmax 활성화 함수를 사용해야 합니다.\n",
        "* 이런 문제에선 항상 categorical_crossentropy를 사용해야 합니다.\n",
        "* 다중 분류에서 레이블을 다루는 2가지 방법이 있습니다.\n",
        "    - 레이블을 범주형 인코딩(또는 원-핫 인코딩)으로 인코딩하고 categorical_crossentropy 손실 함수를 사용합니다.\n",
        "    - 레이블을 정수로 인코딩하고 sparse_categorical_crossentropy 손실 함수를 사용합니다.\n",
        "* 네트워크에 정보의 병목이 생기지 않도록 주의 해야 합니다."
      ]
    },
    {
      "cell_type": "markdown",
      "metadata": {
        "id": "fibzkd2pQzZs",
        "colab_type": "text"
      },
      "source": [
        "## 3.6 주택 가격 예측: 회귀 문제\n",
        "\n",
        "이번에는 분류 문제가 아닌 **회귀**(regression) 문제입니다. 개별적인 레이블 대신에 연속적인 값을 예측합니다."
      ]
    },
    {
      "cell_type": "markdown",
      "metadata": {
        "id": "Kt7UP3sGQzZt",
        "colab_type": "text"
      },
      "source": [
        "### 3.6.1 보스턴 주택 가격 데이터셋\n",
        "\n",
        "1970년 중반 보스턴 외곽 지역의 범죄율, 지방세율 등의 데이터가 주어졌을 때 주택 가격의 중간 값을 예측하는 문제입니다. 사용할 데이터의 특징은 다음과 같습니다.\n",
        "* 데이터 포인트가 506개로 비교적 적습니다.\n",
        "* 404개는 훈련 샘플, 102개는 테스트 샘플로 나뉘어 있습니다.\n",
        "* 입력 데이터에  있는 각 특성(feature)(예를 들면 범죄율)은 스케일이 서로 다릅니다. [0~1], [1~12], [1~100]..."
      ]
    },
    {
      "cell_type": "code",
      "metadata": {
        "collapsed": true,
        "id": "g1hYrkgnQzZu",
        "colab_type": "code",
        "colab": {},
        "outputId": "afdabe34-4443-4b2e-d8f0-e4bc639c5a61"
      },
      "source": [
        "# 코드 3-24 보스턴 주택 데이터셋 로드하기\n",
        "from keras.datasets import boston_housing\n",
        "\n",
        "(train_data, train_targets), (test_data, test_targets) = boston_housing.load_data()"
      ],
      "execution_count": 0,
      "outputs": [
        {
          "output_type": "stream",
          "text": [
            "Using TensorFlow backend.\n"
          ],
          "name": "stderr"
        },
        {
          "output_type": "stream",
          "text": [
            "Downloading data from https://s3.amazonaws.com/keras-datasets/boston_housing.npz\n",
            "57344/57026 [==============================] - 0s 7us/step\n"
          ],
          "name": "stdout"
        }
      ]
    },
    {
      "cell_type": "markdown",
      "metadata": {
        "id": "ABl9Wuq1QzZw",
        "colab_type": "text"
      },
      "source": [
        "모두 13개의 특성이 있습니다. 타깃은 주택의 중간 가격으로 천 달러 단위입니다."
      ]
    },
    {
      "cell_type": "markdown",
      "metadata": {
        "id": "D_VEu0u7QzZx",
        "colab_type": "text"
      },
      "source": [
        "### 3.6.2 데이터 준비\n",
        "\n",
        "상이한 스케일을 가진 값을 신경망에 주입하면 문제가 됩니다. 이런 데이터를 다룰 대표적인 방법은 특성별로 **정규화**를 하는 것입니다.  \n",
        "* 정규화는 여러 의미로 사용되기 때문에 **표준화**(standardization)라고 하면 정확히 이 방식입니다.\n",
        "\n",
        "입력 데이터에 있는 각 특성에 대해서 특성의 평균을 빼고 표준 편차로 나눕니다. 특성의 중앙이 0 근처에 맞추어지고 표준 편차가 1이 됩니다."
      ]
    },
    {
      "cell_type": "code",
      "metadata": {
        "id": "0BzrAjDAQzZx",
        "colab_type": "code",
        "colab": {}
      },
      "source": [
        "# 코드 3-25 데이터 정규화하기\n",
        "mean = train_data.mean(axis=0)\n",
        "train_data -= mean\n",
        "std = train_data.std(axis=0)\n",
        "train_data /= std\n",
        "\n",
        "test_data -= mean\n",
        "test_data /= std"
      ],
      "execution_count": 0,
      "outputs": []
    },
    {
      "cell_type": "markdown",
      "metadata": {
        "id": "eIMYEMAfQzZz",
        "colab_type": "text"
      },
      "source": [
        "**(매우 중요)** 테스트 데이터를 정규화할 때 사용한 값이 훈련 데이터에서 계산한 값임을 주목해야 합니다! 절대로 테스트 데이터에서 계산한 어떤 값도 사용해서는 안됩니다!"
      ]
    },
    {
      "cell_type": "markdown",
      "metadata": {
        "id": "9JtYxWKTQzZ0",
        "colab_type": "text"
      },
      "source": [
        "### 3.6.3 모델 구성\n",
        "\n",
        "샘플 개수가 적기 때문에 64개의 유닛을 가진 2개의 은닉 층으로 작은 네트워크를 구성하여 사용하겠습니다. 일반적으로 훈련 데이터의 개수가 적을수록 오버피팅이 더 쉽게 일어나므로 작은 모델을 사용하는 것이 좋습니다."
      ]
    },
    {
      "cell_type": "code",
      "metadata": {
        "id": "akTbK1MHQzZ0",
        "colab_type": "code",
        "colab": {}
      },
      "source": [
        "# 코드 3-26 모델 정의하기\n",
        "from keras import models\n",
        "from keras import layers\n",
        "\n",
        "def build_model():  # 동일한 모델을 여러 번 생성할 것이므로 함수 생성\n",
        "    model = models.Sequential()\n",
        "    model.add(layers.Dense(64, activation='relu', input_shape=(train_data.shape[1],)))\n",
        "    model.add(layers.Dense(64, activation='relu'))\n",
        "    model.add(layers.Dense(1))\n",
        "    model.compile(optimizer='rmsprop', loss='mse', metrics=['mae'])\n",
        "    return model"
      ],
      "execution_count": 0,
      "outputs": []
    },
    {
      "cell_type": "markdown",
      "metadata": {
        "id": "U08qX3wyQzZ2",
        "colab_type": "text"
      },
      "source": [
        "다음 코드에서 확인할 수 있는 특징입니다.\n",
        "* 이 네트워크의 마지막 층은 하나의 유닛을 가지고 있고 활성화 함수가 없습니다. 이것이 전형적인 스칼라 회귀(하나의 연속적인 값을 예측하는 회귀)를 위한 구성입니다.\n",
        "* 이 모델은 **평균 제곱 오차**(mean squared error) 손실 함수를 사용합니다. (회귀 문제에서 많이 사용하는 손실 함수)(예측과 타깃 사이 거리의 제곱)\n",
        "* 훈련하는 동안 모니터링을 위해 새로운 지표인 **평균 절대 오차**(mean absolute error)를 측정합니다.(예측과 타깃 사이 거리의 절댓값)"
      ]
    },
    {
      "cell_type": "markdown",
      "metadata": {
        "id": "H46UszG5QzZ3",
        "colab_type": "text"
      },
      "source": [
        "### 3.6.4 K-겹 검증을 사용한 훈련 검증\n",
        "\n",
        "훈련 세트가 매우 적기 때문에 어떤 샘플이 검증 셋으로 선택되었는지에 따라 검증 점수가 달라지게 되고 신뢰 있는 평가를 할 수 없습니다.\n",
        "이런 상황에서 가장 좋은 방법은 **K-겹 교차 검증**(K-fold cross-validation)을 사용하는 것입니다.\n",
        "1. 데이터를 K개의 분할(즉 폴드(fold))로 나누고, K개의 모델을 만듭니다.\n",
        "2. 각 모델에서는 K-1개의 분할에서 훈련하고 나머지 분할에서 평가하는 방법입니다.\n",
        "3. 모델의 검증 점수는 K개의 검증 점수 평균이 됩니다."
      ]
    },
    {
      "cell_type": "code",
      "metadata": {
        "id": "F8ysoafWQzZ3",
        "colab_type": "code",
        "colab": {},
        "outputId": "67aae18a-211d-4e6e-9f3e-53d93dbecaf1"
      },
      "source": [
        "# 코드 3-27 K-겹 검증하기\n",
        "import numpy as np\n",
        "\n",
        "k = 4\n",
        "num_val_samples = len(train_data) // k\n",
        "num_epochs = 100\n",
        "all_scores = []\n",
        "for i in range(k):\n",
        "    print('처리중인 폴드 #', i)\n",
        "    # 검증 데이터 준비: k번째 분할\n",
        "    val_data = train_data[i * num_val_samples: (i + 1) * num_val_samples]\n",
        "    val_targets = train_targets[i * num_val_samples: (i + 1) * num_val_samples]\n",
        "    \n",
        "    # 훈련 데이터 준비: 다른 분할 전체\n",
        "    partial_train_data = np.concatenate([train_data[:i * num_val_samples],\n",
        "                                         train_data[(i + 1) * num_val_samples:]],\n",
        "                                        axis=0)\n",
        "    partial_train_targets = np.concatenate([train_targets[:i * num_val_samples],\n",
        "                                            train_targets[(i + 1) * num_val_samples:]],\n",
        "                                           axis=0)\n",
        "    \n",
        "    # 케라스 모델 구성(컴파일 포함)\n",
        "    model = build_model()\n",
        "    # 모델 훈련(verbose=0 이므로 훈련 과정이 출력되지 않습니다.)\n",
        "    model.fit(partial_train_data, partial_train_targets,\n",
        "              epochs=num_epochs, batch_size=1, verbose=0)\n",
        "    val_mse, val_mae = model.evaluate(val_data, val_targets, verbose=0)\n",
        "    all_scores.append(val_mae)"
      ],
      "execution_count": 0,
      "outputs": [
        {
          "output_type": "stream",
          "text": [
            "처리중인 폴드 # 0\n",
            "WARNING:tensorflow:From C:\\ProgramData\\Anaconda3\\lib\\site-packages\\tensorflow\\python\\ops\\math_ops.py:3066: to_int32 (from tensorflow.python.ops.math_ops) is deprecated and will be removed in a future version.\n",
            "Instructions for updating:\n",
            "Use tf.cast instead.\n",
            "처리중인 폴드 # 1\n",
            "처리중인 폴드 # 2\n",
            "처리중인 폴드 # 3\n"
          ],
          "name": "stdout"
        }
      ]
    },
    {
      "cell_type": "code",
      "metadata": {
        "id": "DX58v8tYQzZ6",
        "colab_type": "code",
        "colab": {},
        "outputId": "a6c6c56d-2279-4d33-fe27-9606b86f78b5"
      },
      "source": [
        "print(all_scores)\n",
        "print(np.mean(all_scores))"
      ],
      "execution_count": 0,
      "outputs": [
        {
          "output_type": "stream",
          "text": [
            "[2.2020992973063254, 2.1551319018448933, 2.859412894390597, 2.3581090303930905]\n",
            "2.3936882809837265\n"
          ],
          "name": "stdout"
        }
      ]
    },
    {
      "cell_type": "markdown",
      "metadata": {
        "id": "1cwy320tQzZ7",
        "colab_type": "text"
      },
      "source": [
        "검증 세트가 다르므로 확실히 검증 점수가 2.15에서 2.9까지 변화가 큽니다. 평균값(2.4)이 더 신뢰할 만합니다.  \n",
        "신경망을 이번엔 500 epoch 동안 훈련해보면서 모델이 얼마나 개선되는지 기록하기 위해 검증 점수를 로그에 저장하겠습니다."
      ]
    },
    {
      "cell_type": "code",
      "metadata": {
        "id": "iJP9tVC0QzZ8",
        "colab_type": "code",
        "colab": {},
        "outputId": "d85fcbc8-5766-4a50-a552-0f5f7e2aa251"
      },
      "source": [
        "# 코드 3-28 각 폴드에서 검증 점수를 로그에 저장하기\n",
        "num_epochs = 500\n",
        "all_mae_histories = []\n",
        "for i in range(k):\n",
        "    print('처리중인 폴드 #', i)\n",
        "    val_data = train_data[i * num_val_samples:(i+1) * num_val_samples]\n",
        "    val_targets = train_targets[i * num_val_samples: (i+1) * num_val_samples]\n",
        "    \n",
        "    partial_train_data = np.concatenate([train_data[:i * num_val_samples],\n",
        "                                         train_data[(i+1) * num_val_samples:]],\n",
        "                                        axis=0)\n",
        "    \n",
        "    partial_train_targets = np.concatenate([train_targets[:i * num_val_samples],\n",
        "                                            train_targets[(i+1) * num_val_samples:]],\n",
        "                                           axis=0)\n",
        "    \n",
        "    model = build_model()\n",
        "    history = model.fit(partial_train_data, partial_train_targets,\n",
        "                        validation_data=(val_data, val_targets),\n",
        "                        epochs=num_epochs, batch_size=1, verbose=0)\n",
        "    mae_history = history.history['val_mean_absolute_error']\n",
        "    all_mae_histories.append(mae_history)"
      ],
      "execution_count": 0,
      "outputs": [
        {
          "output_type": "stream",
          "text": [
            "처리중인 폴드 # 0\n",
            "처리중인 폴드 # 1\n",
            "처리중인 폴드 # 2\n",
            "처리중인 폴드 # 3\n"
          ],
          "name": "stdout"
        }
      ]
    },
    {
      "cell_type": "code",
      "metadata": {
        "id": "5Q1LL7nsQzaA",
        "colab_type": "code",
        "colab": {}
      },
      "source": [
        "# 코드 3-29 K-겹 검증 점수 평균 기록하기\n",
        "average_mae_history = [np.mean([x[i] for x in all_mae_histories]) for i in range(num_epochs)]"
      ],
      "execution_count": 0,
      "outputs": []
    },
    {
      "cell_type": "markdown",
      "metadata": {
        "id": "TXMG1J-3QzaD",
        "colab_type": "text"
      },
      "source": [
        "그래프로 나타냅시다."
      ]
    },
    {
      "cell_type": "code",
      "metadata": {
        "id": "jQEai6RMQzaD",
        "colab_type": "code",
        "colab": {},
        "outputId": "9e3b75ec-a576-480a-8984-9cd9ffda3f10"
      },
      "source": [
        "# 코드 3-30 검증 점수 그래프\n",
        "import matplotlib.pyplot as plt\n",
        "%matplotlib inline\n",
        "\n",
        "plt.plot(range(1, len(average_mae_history) + 1), average_mae_history)\n",
        "plt.xlabel('Epochs')\n",
        "plt.ylabel('Validation MAE')\n",
        "plt.show()"
      ],
      "execution_count": 0,
      "outputs": [
        {
          "output_type": "display_data",
          "data": {
            "image/png": "[encoded data removed]",
            "text/plain": [
              "<Figure size 432x288 with 1 Axes>"
            ]
          },
          "metadata": {
            "tags": [],
            "needs_background": "light"
          }
        }
      ]
    },
    {
      "cell_type": "markdown",
      "metadata": {
        "id": "jjN2hjPAQzaG",
        "colab_type": "text"
      },
      "source": [
        "위의 그래프는 범위가 크고 변동이 심해서 보기 어렵습니다. 그러므로 다음과 같이 변경합니다.\n",
        "* 곡선의 다른 부분과 스케일이 많이 다른 첫 10개의 데이터 포인트를 제외시킵니다.\n",
        "* 부드러운 곡선을 얻기 위해 각 포인트를 이전 포인트의 **지수 이동 평균**(exponential moving average)으로 대체합니다.\n",
        "\n",
        "지수 이동 평균은 시계열 데이터를 부드럽게 만드는 기법 중 하나입니다. 이전에 계산된 이동 평균에 factor를 곱하고 현재 포인트에 (1-factor)를 곱해 합산하는 것입니다."
      ]
    },
    {
      "cell_type": "code",
      "metadata": {
        "id": "ELvzvw-MQzaH",
        "colab_type": "code",
        "colab": {},
        "outputId": "a48cfddf-3e84-4bfe-f24f-c715f5844a8d"
      },
      "source": [
        "# 코드 3-31 처음 10개의 데이터 포인트를 제외한 검증 점수 그리기\n",
        "def smooth_curve(points, factor=0.9):\n",
        "    smoothed_points = []\n",
        "    for point in points:\n",
        "        if smoothed_points:\n",
        "            previous = smoothed_points[-1]\n",
        "            smoothed_points.append(previous * factor + point * (1 - factor))\n",
        "        else:\n",
        "            smoothed_points.append(point)\n",
        "    return smoothed_points\n",
        "\n",
        "smooth_mae_history = smooth_curve(average_mae_history[10:])\n",
        "\n",
        "plt.plot(range(1, len(smooth_mae_history) + 1), smooth_mae_history)\n",
        "plt.xlabel('Epochs')\n",
        "plt.ylabel('Validation MAE')\n",
        "plt.show()"
      ],
      "execution_count": 0,
      "outputs": [
        {
          "output_type": "display_data",
          "data": {
            "image/png": "[encoded data removed]",
            "text/plain": [
              "<Figure size 432x288 with 1 Axes>"
            ]
          },
          "metadata": {
            "tags": [],
            "needs_background": "light"
          }
        }
      ]
    },
    {
      "cell_type": "markdown",
      "metadata": {
        "id": "HvRFn7n-QzaJ",
        "colab_type": "text"
      },
      "source": [
        "이 그래프를 보면 검증 MAE가 80번째 에포크 이후에 줄어드는 것이 멈추고 이후 오버피팅이 시작됩니다."
      ]
    },
    {
      "cell_type": "code",
      "metadata": {
        "id": "DLgWX5dnQzaJ",
        "colab_type": "code",
        "colab": {},
        "outputId": "b7eb2fb1-1c9b-4780-b9ac-196727bf14c9"
      },
      "source": [
        "# 코드 3-32 최종 모델 훈련하기\n",
        "model = build_model()\n",
        "model.fit(train_data, train_targets,\n",
        "          epochs=80, batch_size=16, verbose=0)\n",
        "test_mse_score, test_mae_score = model.evaluate(test_data, test_targets)"
      ],
      "execution_count": 0,
      "outputs": [
        {
          "output_type": "stream",
          "text": [
            "102/102 [==============================] - 0s 2ms/step\n"
          ],
          "name": "stdout"
        }
      ]
    },
    {
      "cell_type": "code",
      "metadata": {
        "id": "SkJb2_lpQzaL",
        "colab_type": "code",
        "colab": {},
        "outputId": "2833a2ec-5ceb-474c-b541-d28178409b37"
      },
      "source": [
        "test_mae_score"
      ],
      "execution_count": 0,
      "outputs": [
        {
          "output_type": "execute_result",
          "data": {
            "text/plain": [
              "2.687388335957247"
            ]
          },
          "metadata": {
            "tags": []
          },
          "execution_count": 13
        }
      ]
    },
    {
      "cell_type": "markdown",
      "metadata": {
        "id": "3sCoQTznQzaO",
        "colab_type": "text"
      },
      "source": [
        "아지 실제 가격과 2,687달러 정도 차이가 나는 것을 확인할 수 있습니다."
      ]
    },
    {
      "cell_type": "markdown",
      "metadata": {
        "id": "yB117qDJQzaO",
        "colab_type": "text"
      },
      "source": [
        "### 3.6.5 정리\n",
        "\n",
        "* 회귀는 **평균 제곱 오차**(MSE) 손실 함수를 자주 사용합니다.\n",
        "* 평가 지표는  **평균 절대 오차**(MAE)를 일반적으로 사용합니다.\n",
        "* 입력 데이터의 특성이 서로 다른 범위를 가지면 전처리에서 스케일 조정을 해야합니다.\n",
        "* 가용 데이터가 적다면 K-겹 검증을 사용합니다.\n",
        "* 훈련 데이터가 적다면 오버피팅을 피하기 위해 은닉 층의 수를 줄입니다.(일반적으로 1개 또는 2개)"
      ]
    },
    {
      "cell_type": "markdown",
      "metadata": {
        "id": "V6JCwVTxQzaP",
        "colab_type": "text"
      },
      "source": [
        "## 3.7 요약\n",
        "\n",
        "* 일반적인 머신러닝인 이진 분류, 다중 분류, 스칼라 회귀를 배웠습니다.\n",
        "* 원본 데이터를 신경망에 주입하기 전에 전처리해야 합니다.\n",
        "* 데이터에 범위가 다른 특성이 있다면 스케일 조정을 해야합니다.\n",
        "* 훈련이 진행됨에 따라서 오버피팅이 시작됩니다.\n",
        "* 훈련 데이터가 적다면 1개 또는 2개의 은닉 층을 사용합니다.\n",
        "* 데이터가 많은 범주로 나뉘어 있을 때 중간층이 너무 작으면 정보의 병목이 생길 수 있습니다.\n",
        "* 회귀는 분류와 다른 손실 함수와 평가 지표를 사용합니다.\n",
        "* 적은 데이터를 사용할 때 K-겹 검증을 사용하는 것이 좋습니다."
      ]
    }
  ]
}