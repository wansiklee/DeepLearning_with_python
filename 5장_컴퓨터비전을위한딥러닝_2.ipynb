{
  "nbformat": 4,
  "nbformat_minor": 0,
  "metadata": {
    "colab": {
      "name": "5장_컴퓨터비전을위한딥러닝_2.ipynb",
      "version": "0.3.2",
      "provenance": [],
      "collapsed_sections": []
    },
    "kernelspec": {
      "name": "python3",
      "display_name": "Python 3"
    },
    "accelerator": "GPU"
  },
  "cells": [
    {
      "cell_type": "markdown",
      "metadata": {
        "id": "ke5hSpHslzOd",
        "colab_type": "text"
      },
      "source": [
        "# 5장 컴퓨터 비전을 위한 딥러닝_2\n",
        "\n",
        "[케라스 창시자에게 배우는 딥러닝] 책을 기반으로 제가 정리하고 요약한 내용입니다.  \n",
        "지난 5장 앞부분에 이어서 5.3절 사전 훈련된 컨브넷 사용하기 부터 시작합니다. 이번 역시 구글 코랩에서 진행합니다."
      ]
    },
    {
      "cell_type": "markdown",
      "metadata": {
        "id": "sXqQu8eomW6t",
        "colab_type": "text"
      },
      "source": [
        "## 5.3 사전 훈련된 컨브넷 사용하기\n",
        "\n",
        "작은 이미지 데이터셋에 딥러닝을 적용하는 일반적이고 매우 효과적인 방법은 사전 훈련된 네트워크를 사용하는 것입니다.  \n",
        "**사전 훈련된 네트워크(pretrained network)** 는 일반적으로 대규모 이미지 분류 문제를 위해 대량의 데이터셋에서 미리 훈련되어 저장된 네트워크입니다.\n",
        "\n",
        "새로운 문제가 원래 작업과 완전히 다른 클래스에 대한 것이더라도 이런 특성은 많은 컴퓨터 비전 문제에 유용합니다. ImageNet 데이터셋(대부분 동물이나 생활용품으로 이루어진)에 네트워크를 훈련하여 가구 아이템을 식별하는 용도로 사용할  수 있습니다."
      ]
    },
    {
      "cell_type": "markdown",
      "metadata": {
        "id": "qbhxlsVAnVt4",
        "colab_type": "text"
      },
      "source": [
        "여기에서는 (1,400만 개의 레이블된 이미지와 1,000개의 클래스로 이루어진) ImageNet 데이터셋에서 훈련된 대규모 컨브넷을 사용해 보겠습니다.\n",
        "\n",
        "사용할 수 있는 모델은 VGG, ResNet, Inception... 등이 있는데 이번엔 VGG16 모델을 사용합니다.\n",
        "\n",
        "사전 훈련된 네트워크를 사용하는 2가지 방법입니다.\n",
        "1. **특성 추출(feature extraction)**\n",
        "2. **미세 조정(fine tuning)**"
      ]
    },
    {
      "cell_type": "markdown",
      "metadata": {
        "id": "paIH3tFioAzK",
        "colab_type": "text"
      },
      "source": [
        "### 5.3.1 특성 추출\n",
        "\n",
        "특성 추출은 사전에 학습된 네트워크의 표현을 사용하여 새로운 샘플에서 흥미로운 특성을 뽑아내는 것입니다. 이런 특성을 사용하여 새로운 분류기를 처음부터 훈련합니다.\n",
        "\n",
        "컨브넷은 이미지 분류를 위해 두 부분으로  구성됩니다.\n",
        "* 연속된 합성곱과 풀링 층으로 시작\n",
        "* 완전 연결 분류기로 끝\n",
        "\n",
        "컨브넷의 경우 특성 추출은 사전에 훈련된 네트워크의 합성곱 기반 층을 선택하여 새로운 데이터를 통과시키고, 그 출력으로 새로운 분류기를 훈련합니다."
      ]
    },
    {
      "cell_type": "markdown",
      "metadata": {
        "id": "pyp3EXyXta0i",
        "colab_type": "text"
      },
      "source": [
        "왜 합성곱 층만 재사용하고 완전 연귤 분류기는 재사용하지 않을까요? 합성곱 층에 의해 학습된 표현이 더 일반적이어서 재사용이 가능하기 때문입니다.\n",
        "* 컨브넷의 특성 맵은 사진에 대한 일반적인 콘셉트의 존재 여부를 기록한 맵입니다. 주어진 컴퓨터 비전 문제에 상관없이 유용하게 사용할 수 있습니다.\n",
        "* But 분류기에서 학습한 표현은 모델이 훈련된 클래스 집합에 특화되어 있습니다. 분류기는 전체 사진에 어떤 클래스가 존재할 확률에 관한 정보만 담고 있습니다.\n",
        "* 완전 연결 층에서 찾은 표현은 더 이상 입력 이미지에 있는 객체의 위치 정보를 가지고 있지 않습니다."
      ]
    },
    {
      "cell_type": "markdown",
      "metadata": {
        "id": "Vz1nxIp_u2kF",
        "colab_type": "text"
      },
      "source": [
        "특정 합성곱 층에서 추출한 표현의 일반성 및 재사용성 수준은 모델에 있는 층의 깊이에 따라 달려있습니다.\n",
        "* 모델 하위 층 : 에지, 색깔, 질감 등 지역적이고 매우 일반적인 특성 맵\n",
        "* 모델 상위 층 : 강아지 눈, 고양이 귀와 같은 좀 더 추상적인 개념\n",
        "\n",
        "새로운 데이터셋과 훈련된 데이터셋이 많이 다르다면 전체 합성곱 기반 층이 아닌 모델의 하위 층 몇 개만 특성 추출에 사용하는 것이 좋습니다."
      ]
    },
    {
      "cell_type": "markdown",
      "metadata": {
        "id": "Tk0zPCEIvGDJ",
        "colab_type": "text"
      },
      "source": [
        "ImageNet 클래스에서는 강아지와 고양이가 있기 때문에 완전 연결 층 정보를 재사용해도 좋지만 일반적인 케이스를 위해 여기서는 사용하지 않습니다. ImageNet 데이터셋에서 훈련된 VCG16 네트워크에서 유용한 특성을 추출합니다. 그 후 특성으로 분류기를 훈련합니다."
      ]
    },
    {
      "cell_type": "markdown",
      "metadata": {
        "id": "0L-YbipmvMko",
        "colab_type": "text"
      },
      "source": [
        "VGG16 모델은 케라스 패키지로 존재하며 ```keras.applications``` 모듈에서 import 할 수 있습니다. 이 모듈에서 사용가능한 이미지 분류 모델은 다음과 같습니다.\n",
        "* Xception\n",
        "* Inception V3\n",
        "* ResNet50\n",
        "* VGG16\n",
        "* VGG19\n",
        "* MobileNet"
      ]
    },
    {
      "cell_type": "markdown",
      "metadata": {
        "id": "rxZwyNSKv1pP",
        "colab_type": "text"
      },
      "source": [
        "VGG 16 모델을 만들어 봅시다."
      ]
    },
    {
      "cell_type": "code",
      "metadata": {
        "id": "LrsqleaClyyM",
        "colab_type": "code",
        "colab": {}
      },
      "source": [
        "# 코드 5-16 VGG16 합성곱 기반 층 만들기\n",
        "from keras.applications import VGG16\n",
        "\n",
        "conv_base = VGG16(weights='imagenet',\n",
        "                  include_top=False,\n",
        "                  input_shape=(150, 150, 3))"
      ],
      "execution_count": 0,
      "outputs": []
    },
    {
      "cell_type": "markdown",
      "metadata": {
        "id": "AdFys7DRzcNR",
        "colab_type": "text"
      },
      "source": [
        "* weights: 모델을 초기화할 가중치 체크포인트를 지정합니다.\n",
        "* include_top: 네트워크의 최상위 완전 연결 분류기를 포함할지 안 할지를 지정합니다. 기본값은 ImageNet의 클래스 1,000개에 대응되는 완전 연결 분류기를 포함합니다. 별도의 (강아지와 고양이 2개 클래스를 구분하는) 완전 연결 층을 추가하려고 하므로 이를 포함하지 않습니다.\n",
        "* input_shape: 네트워크에 주입할 이미지 텐서의 크기입니다. 이 매개변수는 선택 사항입니다. 이 값을 지정하지 않으면 네트워크가 어떤 크기의 입력도 처리할 수 있습니다."
      ]
    },
    {
      "cell_type": "code",
      "metadata": {
        "id": "CtHloyI_zNlC",
        "colab_type": "code",
        "colab": {
          "base_uri": "https://localhost:8080/",
          "height": 835
        },
        "outputId": "f7a22f13-554a-4713-97e1-61fbad25025d"
      },
      "source": [
        "conv_base.summary()"
      ],
      "execution_count": 2,
      "outputs": [
        {
          "output_type": "stream",
          "text": [
            "_________________________________________________________________\n",
            "Layer (type)                 Output Shape              Param #   \n",
            "=================================================================\n",
            "input_1 (InputLayer)         (None, 150, 150, 3)       0         \n",
            "_________________________________________________________________\n",
            "block1_conv1 (Conv2D)        (None, 150, 150, 64)      1792      \n",
            "_________________________________________________________________\n",
            "block1_conv2 (Conv2D)        (None, 150, 150, 64)      36928     \n",
            "_________________________________________________________________\n",
            "block1_pool (MaxPooling2D)   (None, 75, 75, 64)        0         \n",
            "_________________________________________________________________\n",
            "block2_conv1 (Conv2D)        (None, 75, 75, 128)       73856     \n",
            "_________________________________________________________________\n",
            "block2_conv2 (Conv2D)        (None, 75, 75, 128)       147584    \n",
            "_________________________________________________________________\n",
            "block2_pool (MaxPooling2D)   (None, 37, 37, 128)       0         \n",
            "_________________________________________________________________\n",
            "block3_conv1 (Conv2D)        (None, 37, 37, 256)       295168    \n",
            "_________________________________________________________________\n",
            "block3_conv2 (Conv2D)        (None, 37, 37, 256)       590080    \n",
            "_________________________________________________________________\n",
            "block3_conv3 (Conv2D)        (None, 37, 37, 256)       590080    \n",
            "_________________________________________________________________\n",
            "block3_pool (MaxPooling2D)   (None, 18, 18, 256)       0         \n",
            "_________________________________________________________________\n",
            "block4_conv1 (Conv2D)        (None, 18, 18, 512)       1180160   \n",
            "_________________________________________________________________\n",
            "block4_conv2 (Conv2D)        (None, 18, 18, 512)       2359808   \n",
            "_________________________________________________________________\n",
            "block4_conv3 (Conv2D)        (None, 18, 18, 512)       2359808   \n",
            "_________________________________________________________________\n",
            "block4_pool (MaxPooling2D)   (None, 9, 9, 512)         0         \n",
            "_________________________________________________________________\n",
            "block5_conv1 (Conv2D)        (None, 9, 9, 512)         2359808   \n",
            "_________________________________________________________________\n",
            "block5_conv2 (Conv2D)        (None, 9, 9, 512)         2359808   \n",
            "_________________________________________________________________\n",
            "block5_conv3 (Conv2D)        (None, 9, 9, 512)         2359808   \n",
            "_________________________________________________________________\n",
            "block5_pool (MaxPooling2D)   (None, 4, 4, 512)         0         \n",
            "=================================================================\n",
            "Total params: 14,714,688\n",
            "Trainable params: 14,714,688\n",
            "Non-trainable params: 0\n",
            "_________________________________________________________________\n"
          ],
          "name": "stdout"
        }
      ]
    },
    {
      "cell_type": "markdown",
      "metadata": {
        "id": "f7Oe_s850Iv6",
        "colab_type": "text"
      },
      "source": [
        "최종 특성 맵의 크기는 (4, 4, 512)입니다. 이 특성 위에 완전 연결 층을 놓을 것입니다.\n",
        "\n",
        "이 지점에서 두 가지 방식이 가능합니다.\n",
        "1. 새로운 데이터셋에서 합성곱 기반 층을 실행하고 출력을 넘파이 배열로 디스크에 저장합니다. 그다음 이 데이터를 독립된 완전 연결 분류기에 입력으로 사용합니다. 이 방식에서는 합성곱 기반 층을 한 번만 실행하기 때문에 빠르고 비용이 적게 듭니다. 하지만 데이터 증식을 사용할 수 없습니다.\n",
        "\n",
        "2. 준비한 모델(conv_base)에 Dense 층을 쌓아 확장합니다. 그리고 입력 데이터에서 엔드-투-엔드로 전체 모델을 실행합니다. 모델에 노출된 모든 입력 이미지가 매번 합성곱 기반 층을 통과하므로 데이터 증식을 사용할 수 있습니다. 하지만 첫 번째 방식보다 훨씬 비용이 많이 듭니다.\n",
        "\n",
        "두 가지 방식을 모두 다루어 보겠습니다."
      ]
    },
    {
      "cell_type": "markdown",
      "metadata": {
        "id": "L1I2OQ9A0snw",
        "colab_type": "text"
      },
      "source": [
        "**데이터 증식을 사용하지 않는 빠른 특성 추출**\n",
        "\n",
        "ImageDatagenerator를 사용하여 이미지와 레이블을 넘파이 배열로 추출합니다. conv_base 모델의 predict 메서드를 호출하여 이 이미지에서 특성을 추출합니다."
      ]
    },
    {
      "cell_type": "code",
      "metadata": {
        "id": "UJRUknCC1Vbk",
        "colab_type": "code",
        "colab": {
          "base_uri": "https://localhost:8080/",
          "height": 72
        },
        "outputId": "2129d205-3907-4b41-e6b8-f903aa74b82f"
      },
      "source": [
        "!ls"
      ],
      "execution_count": 4,
      "outputs": [
        {
          "output_type": "stream",
          "text": [
            "cats_and_dogs_small\t  kaggle.json\t\ttest1\t   train.zip\n",
            "cats_and_dogs_small_1.h5  sample_data\t\ttest1.zip\n",
            "cats_and_dogs_small_2.h5  sampleSubmission.csv\ttrain\n"
          ],
          "name": "stdout"
        }
      ]
    },
    {
      "cell_type": "code",
      "metadata": {
        "id": "7-RABcbv0GEZ",
        "colab_type": "code",
        "colab": {
          "base_uri": "https://localhost:8080/",
          "height": 72
        },
        "outputId": "b0869d02-0858-4dac-f3b1-b3bac3a7b177"
      },
      "source": [
        "# 코드 5-17 사전 훈련된 합성곱 기반 층을 사용한 특성 추출하기\n",
        "import os\n",
        "import numpy as np\n",
        "from keras.preprocessing.image import ImageDataGenerator\n",
        "\n",
        "base_dir = './cats_and_dogs_small'\n",
        "train_dir = os.path.join(base_dir, 'train')\n",
        "validation_dir = os.path.join(base_dir, 'validation')\n",
        "test_dir = os.path.join(base_dir, 'test')\n",
        "\n",
        "datagen = ImageDataGenerator(rescale=1./255)\n",
        "batch_size = 20\n",
        "\n",
        "def extract_features(directory, sample_count):\n",
        "  features = np.zeros(shape=(sample_count, 4, 4, 512))\n",
        "  labels = np.zeros(shape=(sample_count))\n",
        "  generator = datagen.flow_from_directory(directory,\n",
        "                                          target_size=(150, 150),\n",
        "                                          batch_size=batch_size,\n",
        "                                          class_mode='binary')\n",
        "  i = 0\n",
        "  for inputs_batch, labels_batch in generator:\n",
        "    features_batch = conv_base.predict(inputs_batch)\n",
        "    features[i * batch_size : (i + 1) * batch_size] = features_batch\n",
        "    labels[i * batch_size : (i + 1) * batch_size] = labels_batch\n",
        "    i += 1\n",
        "    if i * batch_size >= sample_count:\n",
        "      break  # 제네레이터는 루프 안에서 무한하게 데이터를 만들어 내므로 모든 이미지를 한번씩 처리하고 나면 중지합니다.\n",
        "  return features, labels\n",
        "\n",
        "train_features, train_labels = extract_features(train_dir, 2000)\n",
        "validation_features, validation_labels = extract_features(validation_dir, 1000)\n",
        "test_features, test_labels = extract_features(test_dir, 1000)"
      ],
      "execution_count": 5,
      "outputs": [
        {
          "output_type": "stream",
          "text": [
            "Found 2000 images belonging to 2 classes.\n",
            "Found 1000 images belonging to 2 classes.\n",
            "Found 1000 images belonging to 2 classes.\n"
          ],
          "name": "stdout"
        }
      ]
    },
    {
      "cell_type": "markdown",
      "metadata": {
        "id": "SK43LTXH3LXX",
        "colab_type": "text"
      },
      "source": [
        "추출된 특성의 크기는 (samples, 4, 4, 512)입니다. 완전 연결 분류기에 주입하기 위해서 먼저 (samples, 8192) 크기로 펼칩니다."
      ]
    },
    {
      "cell_type": "code",
      "metadata": {
        "id": "suC8oOqZ2_-c",
        "colab_type": "code",
        "colab": {}
      },
      "source": [
        "train_features = np.reshape(train_features, (2000, 4 * 4 * 512))\n",
        "validation_features = np.reshape(validation_features, (1000, 4 * 4 * 512))\n",
        "test_features = np.reshape(test_features, (1000, 4 * 4 * 512))"
      ],
      "execution_count": 0,
      "outputs": []
    },
    {
      "cell_type": "markdown",
      "metadata": {
        "id": "iEJq-hGX3XAU",
        "colab_type": "text"
      },
      "source": [
        "이제 완전 연결 분류기를 정의하고(규제를 위해 드롭아웃 사용) 저장된 데이터와 레이블을 사용하여 훈련합니다."
      ]
    },
    {
      "cell_type": "code",
      "metadata": {
        "id": "XL0dkY4n3VOJ",
        "colab_type": "code",
        "colab": {
          "base_uri": "https://localhost:8080/",
          "height": 1000
        },
        "outputId": "27d1ba5b-e58e-4f50-ad00-58dd7d41cf30"
      },
      "source": [
        "# 코드 5-18 완전 연결 분류기를 정의하고 훈련하기\n",
        "from keras import models\n",
        "from keras import layers\n",
        "from keras import optimizers\n",
        "\n",
        "model = models.Sequential()\n",
        "model.add(layers.Dense(256, activation='relu', input_dim=4 * 4 * 512))\n",
        "model.add(layers.Dropout(0.5))\n",
        "model.add(layers.Dense(1, activation='sigmoid'))\n",
        "\n",
        "model.compile(optimizer=optimizers.RMSprop(lr=2e-5),\n",
        "              loss='binary_crossentropy',\n",
        "              metrics=['acc'])\n",
        "\n",
        "history = model.fit(train_features, train_labels,\n",
        "                    epochs=30,\n",
        "                    batch_size=20,\n",
        "                    validation_data=(validation_features, validation_labels))"
      ],
      "execution_count": 7,
      "outputs": [
        {
          "output_type": "stream",
          "text": [
            "W0827 06:58:57.292380 139719457318784 deprecation.py:506] From /usr/local/lib/python3.6/dist-packages/keras/backend/tensorflow_backend.py:3445: calling dropout (from tensorflow.python.ops.nn_ops) with keep_prob is deprecated and will be removed in a future version.\n",
            "Instructions for updating:\n",
            "Please use `rate` instead of `keep_prob`. Rate should be set to `rate = 1 - keep_prob`.\n",
            "W0827 06:58:57.420289 139719457318784 deprecation_wrapper.py:119] From /usr/local/lib/python3.6/dist-packages/keras/optimizers.py:790: The name tf.train.Optimizer is deprecated. Please use tf.compat.v1.train.Optimizer instead.\n",
            "\n",
            "W0827 06:58:57.431110 139719457318784 deprecation.py:323] From /usr/local/lib/python3.6/dist-packages/tensorflow/python/ops/nn_impl.py:180: add_dispatch_support.<locals>.wrapper (from tensorflow.python.ops.array_ops) is deprecated and will be removed in a future version.\n",
            "Instructions for updating:\n",
            "Use tf.where in 2.0, which has the same broadcast rule as np.where\n"
          ],
          "name": "stderr"
        },
        {
          "output_type": "stream",
          "text": [
            "Train on 2000 samples, validate on 1000 samples\n",
            "Epoch 1/30\n",
            "2000/2000 [==============================] - 1s 614us/step - loss: 0.6047 - acc: 0.6690 - val_loss: 0.4638 - val_acc: 0.8200\n",
            "Epoch 2/30\n",
            "2000/2000 [==============================] - 1s 392us/step - loss: 0.4334 - acc: 0.8025 - val_loss: 0.3768 - val_acc: 0.8500\n",
            "Epoch 3/30\n",
            "2000/2000 [==============================] - 1s 387us/step - loss: 0.3637 - acc: 0.8490 - val_loss: 0.3356 - val_acc: 0.8650\n",
            "Epoch 4/30\n",
            "2000/2000 [==============================] - 1s 395us/step - loss: 0.3173 - acc: 0.8685 - val_loss: 0.3095 - val_acc: 0.8810\n",
            "Epoch 5/30\n",
            "2000/2000 [==============================] - 1s 383us/step - loss: 0.2909 - acc: 0.8825 - val_loss: 0.2941 - val_acc: 0.8800\n",
            "Epoch 6/30\n",
            "2000/2000 [==============================] - 1s 400us/step - loss: 0.2719 - acc: 0.8950 - val_loss: 0.2800 - val_acc: 0.8900\n",
            "Epoch 7/30\n",
            "2000/2000 [==============================] - 1s 387us/step - loss: 0.2483 - acc: 0.9090 - val_loss: 0.2761 - val_acc: 0.8830\n",
            "Epoch 8/30\n",
            "2000/2000 [==============================] - 1s 398us/step - loss: 0.2396 - acc: 0.9055 - val_loss: 0.2646 - val_acc: 0.8970\n",
            "Epoch 9/30\n",
            "2000/2000 [==============================] - 1s 405us/step - loss: 0.2218 - acc: 0.9110 - val_loss: 0.2702 - val_acc: 0.8850\n",
            "Epoch 10/30\n",
            "2000/2000 [==============================] - 1s 384us/step - loss: 0.2140 - acc: 0.9215 - val_loss: 0.2700 - val_acc: 0.8840\n",
            "Epoch 11/30\n",
            "2000/2000 [==============================] - 1s 394us/step - loss: 0.1944 - acc: 0.9295 - val_loss: 0.2499 - val_acc: 0.9010\n",
            "Epoch 12/30\n",
            "2000/2000 [==============================] - 1s 371us/step - loss: 0.1897 - acc: 0.9320 - val_loss: 0.2454 - val_acc: 0.9030\n",
            "Epoch 13/30\n",
            "2000/2000 [==============================] - 1s 399us/step - loss: 0.1841 - acc: 0.9310 - val_loss: 0.2451 - val_acc: 0.9010\n",
            "Epoch 14/30\n",
            "2000/2000 [==============================] - 1s 392us/step - loss: 0.1708 - acc: 0.9405 - val_loss: 0.2423 - val_acc: 0.9030\n",
            "Epoch 15/30\n",
            "2000/2000 [==============================] - 1s 393us/step - loss: 0.1652 - acc: 0.9445 - val_loss: 0.2401 - val_acc: 0.9060\n",
            "Epoch 16/30\n",
            "2000/2000 [==============================] - 1s 394us/step - loss: 0.1593 - acc: 0.9450 - val_loss: 0.2401 - val_acc: 0.9040\n",
            "Epoch 17/30\n",
            "2000/2000 [==============================] - 1s 411us/step - loss: 0.1448 - acc: 0.9495 - val_loss: 0.2367 - val_acc: 0.9040\n",
            "Epoch 18/30\n",
            "2000/2000 [==============================] - 1s 391us/step - loss: 0.1443 - acc: 0.9500 - val_loss: 0.2456 - val_acc: 0.8980\n",
            "Epoch 19/30\n",
            "2000/2000 [==============================] - 1s 391us/step - loss: 0.1390 - acc: 0.9580 - val_loss: 0.2411 - val_acc: 0.9030\n",
            "Epoch 20/30\n",
            "2000/2000 [==============================] - 1s 395us/step - loss: 0.1345 - acc: 0.9520 - val_loss: 0.2479 - val_acc: 0.8960\n",
            "Epoch 21/30\n",
            "2000/2000 [==============================] - 1s 394us/step - loss: 0.1306 - acc: 0.9580 - val_loss: 0.2377 - val_acc: 0.9050\n",
            "Epoch 22/30\n",
            "2000/2000 [==============================] - 1s 383us/step - loss: 0.1246 - acc: 0.9565 - val_loss: 0.2369 - val_acc: 0.9040\n",
            "Epoch 23/30\n",
            "2000/2000 [==============================] - 1s 399us/step - loss: 0.1134 - acc: 0.9640 - val_loss: 0.2367 - val_acc: 0.9060\n",
            "Epoch 24/30\n",
            "2000/2000 [==============================] - 1s 384us/step - loss: 0.1143 - acc: 0.9655 - val_loss: 0.2456 - val_acc: 0.9000\n",
            "Epoch 25/30\n",
            "2000/2000 [==============================] - 1s 387us/step - loss: 0.1133 - acc: 0.9640 - val_loss: 0.2515 - val_acc: 0.8910\n",
            "Epoch 26/30\n",
            "2000/2000 [==============================] - 1s 392us/step - loss: 0.1038 - acc: 0.9660 - val_loss: 0.2412 - val_acc: 0.9020\n",
            "Epoch 27/30\n",
            "2000/2000 [==============================] - 1s 388us/step - loss: 0.1033 - acc: 0.9690 - val_loss: 0.2432 - val_acc: 0.9020\n",
            "Epoch 28/30\n",
            "2000/2000 [==============================] - 1s 388us/step - loss: 0.0962 - acc: 0.9715 - val_loss: 0.2440 - val_acc: 0.8990\n",
            "Epoch 29/30\n",
            "2000/2000 [==============================] - 1s 402us/step - loss: 0.0959 - acc: 0.9675 - val_loss: 0.2431 - val_acc: 0.9030\n",
            "Epoch 30/30\n",
            "2000/2000 [==============================] - 1s 392us/step - loss: 0.0915 - acc: 0.9710 - val_loss: 0.2405 - val_acc: 0.9050\n"
          ],
          "name": "stdout"
        }
      ]
    },
    {
      "cell_type": "markdown",
      "metadata": {
        "id": "yGFHcIyo30J-",
        "colab_type": "text"
      },
      "source": [
        "이번엔 2개의 Dense 층만 처리하면 되기 때문에 훈련이 매우 빠릅니다."
      ]
    },
    {
      "cell_type": "markdown",
      "metadata": {
        "id": "GJlbAqq537WI",
        "colab_type": "text"
      },
      "source": [
        "훈련 손실과 정확도 곡선을 그려봅니다."
      ]
    },
    {
      "cell_type": "code",
      "metadata": {
        "id": "LaUT6WPQ3sc3",
        "colab_type": "code",
        "colab": {
          "base_uri": "https://localhost:8080/",
          "height": 545
        },
        "outputId": "cc57678b-e53a-4601-875d-7dd112006c49"
      },
      "source": [
        "# 코드 5-19 결과 그래프 그리기\n",
        "import matplotlib.pyplot as plt\n",
        "%matplotlib inline\n",
        "\n",
        "acc = history.history['acc']\n",
        "val_acc = history.history['val_acc']\n",
        "loss = history.history['loss']\n",
        "val_loss = history.history['val_loss']\n",
        "\n",
        "epochs = range(1, len(acc) + 1)\n",
        "\n",
        "plt.plot(epochs, acc, 'r', label='Training acc')\n",
        "plt.plot(epochs, val_acc, 'b', label='Validation acc')\n",
        "plt.title('Training and validation accuracy')\n",
        "plt.legend()\n",
        "\n",
        "plt.figure()\n",
        "\n",
        "plt.plot(epochs, loss, 'r', label='Training loss')\n",
        "plt.plot(epochs, val_loss, 'b', label='Validation loss')\n",
        "plt.title('Training and validation loss')\n",
        "plt.legend()\n",
        "\n",
        "plt.show()"
      ],
      "execution_count": 8,
      "outputs": [
        {
          "output_type": "display_data",
          "data": {
            "image/png": "[encoded data removed]",
            "text/plain": [
              "<Figure size 432x288 with 1 Axes>"
            ]
          },
          "metadata": {
            "tags": []
          }
        },
        {
          "output_type": "display_data",
          "data": {
            "image/png": "[encoded data removed]",
            "text/plain": [
              "<Figure size 432x288 with 1 Axes>"
            ]
          },
          "metadata": {
            "tags": []
          }
        }
      ]
    },
    {
      "cell_type": "markdown",
      "metadata": {
        "id": "Kbjl0Q4i4Nit",
        "colab_type": "text"
      },
      "source": [
        "약 90%의 검증 정확도에 도달했습니다. 이전에 처음부터 훈련시킨 작은 모델보다 훨씬 좋습니다. 하지만 이 그래프도 많은 드롭아웃을 사용했음에도 오버피팅이 생깁니다. 작은 이미지 데이터셋에서는 과대적합을 막기 위해 필수적인 데이터 증식을 사용하지 않았기 때문입니다."
      ]
    },
    {
      "cell_type": "markdown",
      "metadata": {
        "id": "_1BekOn84hH8",
        "colab_type": "text"
      },
      "source": [
        "**데이터 증식을 사용한 특성 추출**\n",
        "\n",
        "이전 방법보다는 훨씬 느리고 비용이 많이 들지만 훈련하는 동안 데이터 증식을 사용할 수 있습니다. 무조건 GPU에서 이방법을 쓰세요!  \n",
        "conv_base 모델을 확장하고 입력 데이터를 사용하여 엔드-투-엔드로 실행합니다."
      ]
    },
    {
      "cell_type": "markdown",
      "metadata": {
        "id": "TleuwuVz4_3M",
        "colab_type": "text"
      },
      "source": [
        "모델은 층과 동일하게 작동하므로 층을 추가하듯이 Sequential 모델에 다른 모델을 추가할 수 있습니다.  \n",
        "여기선 **```conv_base```** 모델을 추가했습니다."
      ]
    },
    {
      "cell_type": "code",
      "metadata": {
        "id": "6J_hrNOf4IP2",
        "colab_type": "code",
        "colab": {}
      },
      "source": [
        "# 코드 5-20 합성곱 기반 층 위에 완전 연결 분류기 추가하기\n",
        "from keras import models\n",
        "from keras import layers\n",
        "\n",
        "model = models.Sequential()\n",
        "model.add(conv_base)\n",
        "model.add(layers.Flatten())\n",
        "model.add(layers.Dense(256, activation='relu'))\n",
        "model.add(layers.Dense(1, activation='sigmoid'))"
      ],
      "execution_count": 0,
      "outputs": []
    },
    {
      "cell_type": "code",
      "metadata": {
        "id": "SpdWX8o872ye",
        "colab_type": "code",
        "colab": {
          "base_uri": "https://localhost:8080/",
          "height": 290
        },
        "outputId": "d2b339af-63de-439c-83e4-a7d090998e2e"
      },
      "source": [
        "model.summary()"
      ],
      "execution_count": 10,
      "outputs": [
        {
          "output_type": "stream",
          "text": [
            "_________________________________________________________________\n",
            "Layer (type)                 Output Shape              Param #   \n",
            "=================================================================\n",
            "vgg16 (Model)                (None, 4, 4, 512)         14714688  \n",
            "_________________________________________________________________\n",
            "flatten_1 (Flatten)          (None, 8192)              0         \n",
            "_________________________________________________________________\n",
            "dense_3 (Dense)              (None, 256)               2097408   \n",
            "_________________________________________________________________\n",
            "dense_4 (Dense)              (None, 1)                 257       \n",
            "=================================================================\n",
            "Total params: 16,812,353\n",
            "Trainable params: 16,812,353\n",
            "Non-trainable params: 0\n",
            "_________________________________________________________________\n"
          ],
          "name": "stdout"
        }
      ]
    },
    {
      "cell_type": "markdown",
      "metadata": {
        "id": "CELZ9rLg8Aam",
        "colab_type": "text"
      },
      "source": [
        "VGG16의 합성곱 기반 층은 14,714,688개의 매우 많은 파라미터를 가지고 있습니다. 그 위에 추가한 분류기는 200만 개의 파라미터를 가집니다."
      ]
    },
    {
      "cell_type": "markdown",
      "metadata": {
        "id": "XufdID3J8NhH",
        "colab_type": "text"
      },
      "source": [
        "모델을 컴파일하고 훈련하기 전에 합성곱 기반 층을 동결하는 것이 아주 중요합니다. 하나 이상의 층을 **동결(freezing)** 한다는 것은 훈련하는 동안 가중치가 업데이트되지 않도록 막는다는 뜻입니다. 동결을 하지 않으면 사전에 학습된 표현을 크게 훼손하게 됩니다.  \n",
        "케라스에서는 ```trainable``` 속성을 False로 설정하여 네트워크를 동결할 수 있습니다."
      ]
    },
    {
      "cell_type": "code",
      "metadata": {
        "id": "7NYS5mzg75D1",
        "colab_type": "code",
        "colab": {
          "base_uri": "https://localhost:8080/",
          "height": 54
        },
        "outputId": "8c1df4f2-f1e1-4f5b-d67e-fdb4fb465765"
      },
      "source": [
        "print('conv_base를 동결하기 전 훈련되는 가중치의 수:', len(model.trainable_weights))\n",
        "\n",
        "conv_base.trainable = False\n",
        "\n",
        "print('conv_base를 동결한 후 훈련되는 가중치의 수:', len(model.trainable_weights))"
      ],
      "execution_count": 11,
      "outputs": [
        {
          "output_type": "stream",
          "text": [
            "conv_base를 동결하기 전 훈련되는 가중치의 수: 30\n",
            "conv_base를 동결한 후 훈련되는 가중치의 수: 4\n"
          ],
          "name": "stdout"
        }
      ]
    },
    {
      "cell_type": "markdown",
      "metadata": {
        "id": "oTwvdJnW9WyH",
        "colab_type": "text"
      },
      "source": [
        "이렇게 설정하면 추가한 2개의 Dense 층 가중치만 훈련될 것입니다. 층마다 2개씩(가중치 행렬과 편향 벡터) 총 4개의 텐서가 훈련됩니다."
      ]
    },
    {
      "cell_type": "markdown",
      "metadata": {
        "id": "Ha8pK--39qia",
        "colab_type": "text"
      },
      "source": [
        "이제 데이터 증식을 사용하여 모델 훈련을 합니다."
      ]
    },
    {
      "cell_type": "code",
      "metadata": {
        "id": "JhMKz6rB9VKl",
        "colab_type": "code",
        "colab": {
          "base_uri": "https://localhost:8080/",
          "height": 1000
        },
        "outputId": "7ddbd5e4-26e4-4ffe-a0b2-eee521cc10ac"
      },
      "source": [
        "# 코드 5-21 동결된 합성곱 기반 층과 함께 모델을 엔드-투-엔드로 훈련하기\n",
        "from keras.preprocessing.image import ImageDataGenerator\n",
        "\n",
        "train_datagen = ImageDataGenerator(rescale=1./255,\n",
        "                                   rotation_range=20,\n",
        "                                   width_shift_range=0.1,\n",
        "                                   height_shift_range=0.1,\n",
        "                                   shear_range=0.1,\n",
        "                                   zoom_range=0.1,\n",
        "                                   horizontal_flip=True,\n",
        "                                   fill_mode='nearest')\n",
        "\n",
        "# 검증 데이터는 증식되어서는 안 됩니다!\n",
        "test_datagen = ImageDataGenerator(rescale=1./255)\n",
        "\n",
        "train_generator = train_datagen.flow_from_directory(train_dir,\n",
        "                                                    target_size=(150, 150), # 모든 이미지의 크기를 150 × 150로 변경합니다\n",
        "                                                    batch_size=20,\n",
        "                                                    class_mode='binary')    # binary_crossentropy 손실을 사용하므로 이진 레이블이 필요합니다\n",
        "\n",
        "validation_generator = test_datagen.flow_from_directory(validation_dir,\n",
        "                                                        target_size=(150, 150),\n",
        "                                                        batch_size=20,\n",
        "                                                        class_mode='binary')\n",
        "\n",
        "model.compile(loss='binary_crossentropy',\n",
        "              optimizer=optimizers.RMSprop(lr=2e-5),\n",
        "              metrics=['acc'])\n",
        "\n",
        "history = model.fit_generator(train_generator,\n",
        "                              steps_per_epoch=100,\n",
        "                              epochs=30,\n",
        "                              validation_data=validation_generator,\n",
        "                              validation_steps=50,\n",
        "                              verbose=2)"
      ],
      "execution_count": 12,
      "outputs": [
        {
          "output_type": "stream",
          "text": [
            "Found 2000 images belonging to 2 classes.\n",
            "Found 1000 images belonging to 2 classes.\n",
            "Epoch 1/30\n",
            " - 25s - loss: 0.5552 - acc: 0.7215 - val_loss: 0.4202 - val_acc: 0.8360\n",
            "Epoch 2/30\n",
            " - 24s - loss: 0.4117 - acc: 0.8315 - val_loss: 0.3468 - val_acc: 0.8550\n",
            "Epoch 3/30\n",
            " - 23s - loss: 0.3473 - acc: 0.8600 - val_loss: 0.3088 - val_acc: 0.8710\n",
            "Epoch 4/30\n",
            " - 23s - loss: 0.3277 - acc: 0.8665 - val_loss: 0.3020 - val_acc: 0.8710\n",
            "Epoch 5/30\n",
            " - 23s - loss: 0.3111 - acc: 0.8710 - val_loss: 0.2715 - val_acc: 0.8920\n",
            "Epoch 6/30\n",
            " - 23s - loss: 0.2891 - acc: 0.8865 - val_loss: 0.2593 - val_acc: 0.8970\n",
            "Epoch 7/30\n",
            " - 23s - loss: 0.2745 - acc: 0.8900 - val_loss: 0.2649 - val_acc: 0.8920\n",
            "Epoch 8/30\n",
            " - 24s - loss: 0.2660 - acc: 0.8905 - val_loss: 0.2484 - val_acc: 0.8970\n",
            "Epoch 9/30\n",
            " - 24s - loss: 0.2570 - acc: 0.8945 - val_loss: 0.2418 - val_acc: 0.9030\n",
            "Epoch 10/30\n",
            " - 23s - loss: 0.2566 - acc: 0.8890 - val_loss: 0.2443 - val_acc: 0.8990\n",
            "Epoch 11/30\n",
            " - 24s - loss: 0.2461 - acc: 0.9155 - val_loss: 0.2436 - val_acc: 0.9020\n",
            "Epoch 12/30\n",
            " - 24s - loss: 0.2401 - acc: 0.9025 - val_loss: 0.2403 - val_acc: 0.8980\n",
            "Epoch 13/30\n",
            " - 24s - loss: 0.2313 - acc: 0.9080 - val_loss: 0.2371 - val_acc: 0.9060\n",
            "Epoch 14/30\n",
            " - 24s - loss: 0.2250 - acc: 0.9115 - val_loss: 0.2437 - val_acc: 0.9010\n",
            "Epoch 15/30\n",
            " - 24s - loss: 0.2303 - acc: 0.9065 - val_loss: 0.2345 - val_acc: 0.9050\n",
            "Epoch 16/30\n",
            " - 24s - loss: 0.2210 - acc: 0.9070 - val_loss: 0.2337 - val_acc: 0.9060\n",
            "Epoch 17/30\n",
            " - 24s - loss: 0.2146 - acc: 0.9195 - val_loss: 0.2349 - val_acc: 0.9100\n",
            "Epoch 18/30\n",
            " - 24s - loss: 0.2223 - acc: 0.9050 - val_loss: 0.2349 - val_acc: 0.9010\n",
            "Epoch 19/30\n",
            " - 24s - loss: 0.2178 - acc: 0.9120 - val_loss: 0.2547 - val_acc: 0.8960\n",
            "Epoch 20/30\n",
            " - 24s - loss: 0.2057 - acc: 0.9200 - val_loss: 0.2313 - val_acc: 0.9060\n",
            "Epoch 21/30\n",
            " - 24s - loss: 0.2085 - acc: 0.9170 - val_loss: 0.2359 - val_acc: 0.8990\n",
            "Epoch 22/30\n",
            " - 24s - loss: 0.2012 - acc: 0.9205 - val_loss: 0.2360 - val_acc: 0.8970\n",
            "Epoch 23/30\n",
            " - 24s - loss: 0.2092 - acc: 0.9175 - val_loss: 0.2373 - val_acc: 0.9070\n",
            "Epoch 24/30\n",
            " - 24s - loss: 0.2035 - acc: 0.9150 - val_loss: 0.2329 - val_acc: 0.9050\n",
            "Epoch 25/30\n",
            " - 24s - loss: 0.1993 - acc: 0.9240 - val_loss: 0.2399 - val_acc: 0.9040\n",
            "Epoch 26/30\n",
            " - 23s - loss: 0.1971 - acc: 0.9165 - val_loss: 0.2378 - val_acc: 0.9010\n",
            "Epoch 27/30\n",
            " - 24s - loss: 0.1924 - acc: 0.9225 - val_loss: 0.2337 - val_acc: 0.9030\n",
            "Epoch 28/30\n",
            " - 23s - loss: 0.1871 - acc: 0.9195 - val_loss: 0.2325 - val_acc: 0.9060\n",
            "Epoch 29/30\n",
            " - 23s - loss: 0.1932 - acc: 0.9210 - val_loss: 0.2347 - val_acc: 0.9060\n",
            "Epoch 30/30\n",
            " - 23s - loss: 0.1822 - acc: 0.9345 - val_loss: 0.2349 - val_acc: 0.9070\n"
          ],
          "name": "stdout"
        }
      ]
    },
    {
      "cell_type": "markdown",
      "metadata": {
        "id": "iWmnqyEpAyRq",
        "colab_type": "text"
      },
      "source": [
        "이제 모델을 저장하고 그래프를 그려봅니다."
      ]
    },
    {
      "cell_type": "code",
      "metadata": {
        "id": "32FYOe1N-CaR",
        "colab_type": "code",
        "colab": {}
      },
      "source": [
        "model.save('cats_and_dogs_small_3.h5')"
      ],
      "execution_count": 0,
      "outputs": []
    },
    {
      "cell_type": "code",
      "metadata": {
        "id": "pRTOEJAlA7fa",
        "colab_type": "code",
        "colab": {
          "base_uri": "https://localhost:8080/",
          "height": 545
        },
        "outputId": "e278388c-4b21-4c38-8765-1bfed6d3cae1"
      },
      "source": [
        "acc = history.history['acc']\n",
        "val_acc = history.history['val_acc']\n",
        "loss = history.history['loss']\n",
        "val_loss = history.history['val_loss']\n",
        "\n",
        "epochs = range(len(acc))\n",
        "\n",
        "plt.plot(epochs, acc, 'r', label='Training acc')\n",
        "plt.plot(epochs, val_acc, 'b', label='Validation acc')\n",
        "plt.title('Training and validation accuracy')\n",
        "plt.legend()\n",
        "\n",
        "plt.figure()\n",
        "\n",
        "plt.plot(epochs, loss, 'r', label='Training loss')\n",
        "plt.plot(epochs, val_loss, 'b', label='Validation loss')\n",
        "plt.title('Training and validation loss')\n",
        "plt.legend()\n",
        "\n",
        "plt.show()"
      ],
      "execution_count": 14,
      "outputs": [
        {
          "output_type": "display_data",
          "data": {
            "image/png": "[encoded data removed]",
            "text/plain": [
              "<Figure size 432x288 with 1 Axes>"
            ]
          },
          "metadata": {
            "tags": []
          }
        },
        {
          "output_type": "display_data",
          "data": {
            "image/png": "[encoded data removed]",
            "text/plain": [
              "<Figure size 432x288 with 1 Axes>"
            ]
          },
          "metadata": {
            "tags": []
          }
        }
      ]
    },
    {
      "cell_type": "markdown",
      "metadata": {
        "id": "EkFnmia_BGK2",
        "colab_type": "text"
      },
      "source": [
        "검증 정확도는 이전과 비슷하지만 오버피팅이 줄었습니다."
      ]
    },
    {
      "cell_type": "markdown",
      "metadata": {
        "id": "MAlsAtCRBO1j",
        "colab_type": "text"
      },
      "source": [
        "### 5.3.2 미세 조정\n",
        "\n",
        "모델을 재사용하는 데 널리 사용되는 또 하나의 기법은 특성 추출을 보완하는 **미세 조정(fine tuning)** 입니다. 미세 조정은 특성 추출에 사용했던 동결 모델의 상위 층 몇 개를 동결에서 해제하고 모델에 새로 추가한 층(여기서는 완전 연결 분류기)과 함께 훈련하는 것입니다."
      ]
    },
    {
      "cell_type": "markdown",
      "metadata": {
        "id": "PDOj8DD4BtAF",
        "colab_type": "text"
      },
      "source": [
        "여기서 주의할 점은 분류기가 미리 훈련된 이후에 합성곱 기반의 상위 층을 미세 조정 하는 것입니다. 미리 훈련되지 않으면 사전에 학습한 표현들이 망가집니다.  \n",
        "네트워크를 미세 조정하는 단계는 다음과 같습니다.\n",
        "1. 사전에 훈련된 기반 네트워크 위에 새로운 네트워크를 추가합니다.\n",
        "2. 기반 네트워크를 동결합니다.\n",
        "3. 새로 추가한 네트워크를 훈련합니다.\n",
        "4. 기반 네트워크에서 일부 층의 동결을 해제합니다.\n",
        "5. 동결을 해제한 층과 새로 추가한 층을 함께 훈련합니다.\n",
        "\n",
        "처음 세 단계는 특성 추출을 할 때 이미 완료했으므로 네 번째 단계부터 진행합니다. conv_base의 동결을 해제하고 개별 층을 동결하겠습니다."
      ]
    },
    {
      "cell_type": "code",
      "metadata": {
        "id": "1PRP-lDuA_f9",
        "colab_type": "code",
        "colab": {
          "base_uri": "https://localhost:8080/",
          "height": 835
        },
        "outputId": "9d40574a-cf6f-497f-cba8-e7876ca92168"
      },
      "source": [
        "conv_base.summary()"
      ],
      "execution_count": 15,
      "outputs": [
        {
          "output_type": "stream",
          "text": [
            "_________________________________________________________________\n",
            "Layer (type)                 Output Shape              Param #   \n",
            "=================================================================\n",
            "input_1 (InputLayer)         (None, 150, 150, 3)       0         \n",
            "_________________________________________________________________\n",
            "block1_conv1 (Conv2D)        (None, 150, 150, 64)      1792      \n",
            "_________________________________________________________________\n",
            "block1_conv2 (Conv2D)        (None, 150, 150, 64)      36928     \n",
            "_________________________________________________________________\n",
            "block1_pool (MaxPooling2D)   (None, 75, 75, 64)        0         \n",
            "_________________________________________________________________\n",
            "block2_conv1 (Conv2D)        (None, 75, 75, 128)       73856     \n",
            "_________________________________________________________________\n",
            "block2_conv2 (Conv2D)        (None, 75, 75, 128)       147584    \n",
            "_________________________________________________________________\n",
            "block2_pool (MaxPooling2D)   (None, 37, 37, 128)       0         \n",
            "_________________________________________________________________\n",
            "block3_conv1 (Conv2D)        (None, 37, 37, 256)       295168    \n",
            "_________________________________________________________________\n",
            "block3_conv2 (Conv2D)        (None, 37, 37, 256)       590080    \n",
            "_________________________________________________________________\n",
            "block3_conv3 (Conv2D)        (None, 37, 37, 256)       590080    \n",
            "_________________________________________________________________\n",
            "block3_pool (MaxPooling2D)   (None, 18, 18, 256)       0         \n",
            "_________________________________________________________________\n",
            "block4_conv1 (Conv2D)        (None, 18, 18, 512)       1180160   \n",
            "_________________________________________________________________\n",
            "block4_conv2 (Conv2D)        (None, 18, 18, 512)       2359808   \n",
            "_________________________________________________________________\n",
            "block4_conv3 (Conv2D)        (None, 18, 18, 512)       2359808   \n",
            "_________________________________________________________________\n",
            "block4_pool (MaxPooling2D)   (None, 9, 9, 512)         0         \n",
            "_________________________________________________________________\n",
            "block5_conv1 (Conv2D)        (None, 9, 9, 512)         2359808   \n",
            "_________________________________________________________________\n",
            "block5_conv2 (Conv2D)        (None, 9, 9, 512)         2359808   \n",
            "_________________________________________________________________\n",
            "block5_conv3 (Conv2D)        (None, 9, 9, 512)         2359808   \n",
            "_________________________________________________________________\n",
            "block5_pool (MaxPooling2D)   (None, 4, 4, 512)         0         \n",
            "=================================================================\n",
            "Total params: 14,714,688\n",
            "Trainable params: 0\n",
            "Non-trainable params: 14,714,688\n",
            "_________________________________________________________________\n"
          ],
          "name": "stdout"
        }
      ]
    },
    {
      "cell_type": "markdown",
      "metadata": {
        "id": "D5XwCgXMCiMB",
        "colab_type": "text"
      },
      "source": [
        "마지막 3개의 합성곱 층을 미세 조정하겠습니다. 즉 block4_pool까지 모든 층은 동결되고 block5_conv1, block5_conv2, block5_conv3 층은 학습 대상이 됩니다."
      ]
    },
    {
      "cell_type": "markdown",
      "metadata": {
        "id": "GQdpqOYBCv4u",
        "colab_type": "text"
      },
      "source": [
        "더 많은 층을 미세 조정하지 않는 이유는 무엇일까요?\n",
        "* 합성곱 기반 층에 있는 하위 층들은 좀 더 일반적이고 재사용 가능한 특성들을 인코딩\n",
        "* 반면 상위 층은 좀 더 특화된 특성을 인코딩 -> 새로운 문제에는 구체적인 특성이 필요 -> 상위층만 미세 조정하는 것이 유리합니다.\n",
        "* 훈련해야 할 파라미터가 많을수록 오버피팅의 위험이 커집니다. 합성곱 기반 층은 1,500 만 개의 파라미터를 가지고 있습니다. 작은 데이터셋으로 전부 훈련하려고 하면 매우 위험합니다."
      ]
    },
    {
      "cell_type": "markdown",
      "metadata": {
        "id": "f1z6LEibDp_r",
        "colab_type": "text"
      },
      "source": [
        "이제 미세 조정을 설정합니다."
      ]
    },
    {
      "cell_type": "code",
      "metadata": {
        "id": "k2yaOVElCfya",
        "colab_type": "code",
        "colab": {}
      },
      "source": [
        "# 코드 5-22 특정 층까지 모든 층 동결하기\n",
        "conv_base.trainable = True\n",
        "\n",
        "set_trainable = False\n",
        "for layer in conv_base.layers:\n",
        "  if layer.name == 'block5_conv1':\n",
        "    set_trainable = True\n",
        "  if set_trainable:\n",
        "    layer.trainable = True\n",
        "  else:\n",
        "    layer.trainable = False"
      ],
      "execution_count": 0,
      "outputs": []
    },
    {
      "cell_type": "markdown",
      "metadata": {
        "id": "2zG0yjJcEOng",
        "colab_type": "text"
      },
      "source": [
        "이제 네트워크의 미세 조정을 시작합니다. 학습률을 낮춘 RMSprop 옵티마이저를 사용합니다. 학습률이 높으면 학습된 표현에 나쁜 영향을 끼칠 수 있고 학습된 표현을 조금씩 수정하기 위해서 입니다."
      ]
    },
    {
      "cell_type": "code",
      "metadata": {
        "id": "foCMmrtPEJfP",
        "colab_type": "code",
        "colab": {
          "base_uri": "https://localhost:8080/",
          "height": 1000
        },
        "outputId": "68f1888a-b24a-42dd-c320-d21ff3c830e1"
      },
      "source": [
        "# 코드 5-23 모델 미세 조정하기\n",
        "\n",
        "model.compile(loss='binary_crossentropy',\n",
        "              optimizer=optimizers.RMSprop(lr=1e-5),\n",
        "              metrics=['acc'])\n",
        "\n",
        "history = model.fit_generator(train_generator,\n",
        "                              steps_per_epoch=100,\n",
        "                              epochs=100,\n",
        "                              validation_data=validation_generator,\n",
        "                              validation_steps=50)"
      ],
      "execution_count": 18,
      "outputs": [
        {
          "output_type": "stream",
          "text": [
            "Epoch 1/100\n",
            "100/100 [==============================] - 26s 265ms/step - loss: 0.1986 - acc: 0.9210 - val_loss: 0.2414 - val_acc: 0.9030\n",
            "Epoch 2/100\n",
            "100/100 [==============================] - 25s 248ms/step - loss: 0.1548 - acc: 0.9355 - val_loss: 0.3090 - val_acc: 0.8760\n",
            "Epoch 3/100\n",
            "100/100 [==============================] - 25s 247ms/step - loss: 0.1417 - acc: 0.9475 - val_loss: 0.2042 - val_acc: 0.9230\n",
            "Epoch 4/100\n",
            "100/100 [==============================] - 24s 244ms/step - loss: 0.1211 - acc: 0.9490 - val_loss: 0.2089 - val_acc: 0.9180\n",
            "Epoch 5/100\n",
            "100/100 [==============================] - 25s 247ms/step - loss: 0.1048 - acc: 0.9600 - val_loss: 0.2228 - val_acc: 0.9180\n",
            "Epoch 6/100\n",
            "100/100 [==============================] - 25s 249ms/step - loss: 0.0895 - acc: 0.9665 - val_loss: 0.2224 - val_acc: 0.9210\n",
            "Epoch 7/100\n",
            "100/100 [==============================] - 25s 247ms/step - loss: 0.0813 - acc: 0.9710 - val_loss: 0.2168 - val_acc: 0.9150\n",
            "Epoch 8/100\n",
            "100/100 [==============================] - 24s 244ms/step - loss: 0.0777 - acc: 0.9760 - val_loss: 0.2482 - val_acc: 0.9060\n",
            "Epoch 9/100\n",
            "100/100 [==============================] - 25s 248ms/step - loss: 0.0678 - acc: 0.9765 - val_loss: 0.2418 - val_acc: 0.9230\n",
            "Epoch 10/100\n",
            "100/100 [==============================] - 25s 245ms/step - loss: 0.0595 - acc: 0.9800 - val_loss: 0.2303 - val_acc: 0.9280\n",
            "Epoch 11/100\n",
            "100/100 [==============================] - 25s 249ms/step - loss: 0.0452 - acc: 0.9820 - val_loss: 0.2057 - val_acc: 0.9290\n",
            "Epoch 12/100\n",
            "100/100 [==============================] - 25s 245ms/step - loss: 0.0458 - acc: 0.9810 - val_loss: 0.2014 - val_acc: 0.9310\n",
            "Epoch 13/100\n",
            "100/100 [==============================] - 25s 246ms/step - loss: 0.0423 - acc: 0.9870 - val_loss: 0.2534 - val_acc: 0.9130\n",
            "Epoch 14/100\n",
            "100/100 [==============================] - 25s 246ms/step - loss: 0.0343 - acc: 0.9900 - val_loss: 0.2311 - val_acc: 0.9290\n",
            "Epoch 15/100\n",
            "100/100 [==============================] - 25s 249ms/step - loss: 0.0355 - acc: 0.9855 - val_loss: 0.2198 - val_acc: 0.9290\n",
            "Epoch 16/100\n",
            "100/100 [==============================] - 25s 245ms/step - loss: 0.0335 - acc: 0.9875 - val_loss: 0.3613 - val_acc: 0.9050\n",
            "Epoch 17/100\n",
            "100/100 [==============================] - 25s 246ms/step - loss: 0.0298 - acc: 0.9885 - val_loss: 0.2008 - val_acc: 0.9270\n",
            "Epoch 18/100\n",
            "100/100 [==============================] - 24s 245ms/step - loss: 0.0250 - acc: 0.9920 - val_loss: 0.2420 - val_acc: 0.9270\n",
            "Epoch 19/100\n",
            "100/100 [==============================] - 24s 240ms/step - loss: 0.0243 - acc: 0.9925 - val_loss: 0.2407 - val_acc: 0.9250\n",
            "Epoch 20/100\n",
            "100/100 [==============================] - 24s 244ms/step - loss: 0.0304 - acc: 0.9890 - val_loss: 0.3603 - val_acc: 0.9160\n",
            "Epoch 21/100\n",
            "100/100 [==============================] - 24s 238ms/step - loss: 0.0233 - acc: 0.9925 - val_loss: 0.2607 - val_acc: 0.9240\n",
            "Epoch 22/100\n",
            "100/100 [==============================] - 24s 242ms/step - loss: 0.0299 - acc: 0.9915 - val_loss: 0.2471 - val_acc: 0.9250\n",
            "Epoch 23/100\n",
            "100/100 [==============================] - 24s 241ms/step - loss: 0.0215 - acc: 0.9930 - val_loss: 0.2443 - val_acc: 0.9360\n",
            "Epoch 24/100\n",
            "100/100 [==============================] - 24s 243ms/step - loss: 0.0197 - acc: 0.9925 - val_loss: 0.2781 - val_acc: 0.9220\n",
            "Epoch 25/100\n",
            "100/100 [==============================] - 24s 242ms/step - loss: 0.0135 - acc: 0.9975 - val_loss: 0.2740 - val_acc: 0.9310\n",
            "Epoch 26/100\n",
            "100/100 [==============================] - 25s 246ms/step - loss: 0.0114 - acc: 0.9965 - val_loss: 0.2896 - val_acc: 0.9350\n",
            "Epoch 27/100\n",
            "100/100 [==============================] - 24s 244ms/step - loss: 0.0113 - acc: 0.9975 - val_loss: 0.2388 - val_acc: 0.9400\n",
            "Epoch 28/100\n",
            "100/100 [==============================] - 24s 242ms/step - loss: 0.0140 - acc: 0.9940 - val_loss: 0.2619 - val_acc: 0.9370\n",
            "Epoch 29/100\n",
            "100/100 [==============================] - 25s 247ms/step - loss: 0.0114 - acc: 0.9975 - val_loss: 0.2929 - val_acc: 0.9200\n",
            "Epoch 30/100\n",
            "100/100 [==============================] - 25s 248ms/step - loss: 0.0116 - acc: 0.9960 - val_loss: 0.2838 - val_acc: 0.9290\n",
            "Epoch 31/100\n",
            "100/100 [==============================] - 25s 249ms/step - loss: 0.0099 - acc: 0.9955 - val_loss: 0.2628 - val_acc: 0.9400\n",
            "Epoch 32/100\n",
            "100/100 [==============================] - 24s 244ms/step - loss: 0.0122 - acc: 0.9960 - val_loss: 0.2905 - val_acc: 0.9280\n",
            "Epoch 33/100\n",
            "100/100 [==============================] - 25s 248ms/step - loss: 0.0119 - acc: 0.9955 - val_loss: 0.2718 - val_acc: 0.9330\n",
            "Epoch 34/100\n",
            "100/100 [==============================] - 25s 247ms/step - loss: 0.0076 - acc: 0.9985 - val_loss: 0.2826 - val_acc: 0.9330\n",
            "Epoch 35/100\n",
            "100/100 [==============================] - 24s 241ms/step - loss: 0.0127 - acc: 0.9950 - val_loss: 0.2806 - val_acc: 0.9280\n",
            "Epoch 36/100\n",
            "100/100 [==============================] - 24s 244ms/step - loss: 0.0066 - acc: 0.9980 - val_loss: 0.3041 - val_acc: 0.9320\n",
            "Epoch 37/100\n",
            "100/100 [==============================] - 25s 247ms/step - loss: 0.0103 - acc: 0.9970 - val_loss: 0.2592 - val_acc: 0.9420\n",
            "Epoch 38/100\n",
            "100/100 [==============================] - 25s 249ms/step - loss: 0.0076 - acc: 0.9975 - val_loss: 0.3218 - val_acc: 0.9210\n",
            "Epoch 39/100\n",
            "100/100 [==============================] - 25s 246ms/step - loss: 0.0088 - acc: 0.9970 - val_loss: 0.2888 - val_acc: 0.9310\n",
            "Epoch 40/100\n",
            "100/100 [==============================] - 25s 248ms/step - loss: 0.0054 - acc: 0.9985 - val_loss: 0.2569 - val_acc: 0.9410\n",
            "Epoch 41/100\n",
            "100/100 [==============================] - 25s 249ms/step - loss: 0.0067 - acc: 0.9975 - val_loss: 0.3358 - val_acc: 0.9290\n",
            "Epoch 42/100\n",
            "100/100 [==============================] - 25s 247ms/step - loss: 0.0048 - acc: 0.9985 - val_loss: 0.2751 - val_acc: 0.9360\n",
            "Epoch 43/100\n",
            "100/100 [==============================] - 25s 247ms/step - loss: 0.0060 - acc: 0.9985 - val_loss: 0.3381 - val_acc: 0.9360\n",
            "Epoch 44/100\n",
            "100/100 [==============================] - 24s 243ms/step - loss: 0.0032 - acc: 0.9995 - val_loss: 0.3409 - val_acc: 0.9330\n",
            "Epoch 45/100\n",
            "100/100 [==============================] - 24s 239ms/step - loss: 0.0065 - acc: 0.9980 - val_loss: 0.3293 - val_acc: 0.9260\n",
            "Epoch 46/100\n",
            "100/100 [==============================] - 25s 248ms/step - loss: 0.0088 - acc: 0.9975 - val_loss: 0.3089 - val_acc: 0.9320\n",
            "Epoch 47/100\n",
            "100/100 [==============================] - 24s 244ms/step - loss: 0.0064 - acc: 0.9980 - val_loss: 0.3284 - val_acc: 0.9350\n",
            "Epoch 48/100\n",
            "100/100 [==============================] - 25s 247ms/step - loss: 0.0057 - acc: 0.9985 - val_loss: 0.3387 - val_acc: 0.9270\n",
            "Epoch 49/100\n",
            "100/100 [==============================] - 24s 244ms/step - loss: 0.0063 - acc: 0.9980 - val_loss: 0.3097 - val_acc: 0.9290\n",
            "Epoch 50/100\n",
            "100/100 [==============================] - 25s 246ms/step - loss: 0.0079 - acc: 0.9965 - val_loss: 0.3226 - val_acc: 0.9260\n",
            "Epoch 51/100\n",
            "100/100 [==============================] - 24s 243ms/step - loss: 0.0050 - acc: 0.9985 - val_loss: 0.3138 - val_acc: 0.9330\n",
            "Epoch 52/100\n",
            "100/100 [==============================] - 25s 246ms/step - loss: 0.0040 - acc: 0.9975 - val_loss: 0.3247 - val_acc: 0.9230\n",
            "Epoch 53/100\n",
            "100/100 [==============================] - 25s 246ms/step - loss: 0.0030 - acc: 0.9990 - val_loss: 0.3189 - val_acc: 0.9320\n",
            "Epoch 54/100\n",
            "100/100 [==============================] - 25s 246ms/step - loss: 0.0043 - acc: 0.9985 - val_loss: 0.3381 - val_acc: 0.9270\n",
            "Epoch 55/100\n",
            "100/100 [==============================] - 25s 248ms/step - loss: 0.0084 - acc: 0.9975 - val_loss: 0.3884 - val_acc: 0.9240\n",
            "Epoch 56/100\n",
            "100/100 [==============================] - 25s 248ms/step - loss: 7.6671e-04 - acc: 1.0000 - val_loss: 0.3602 - val_acc: 0.9280\n",
            "Epoch 57/100\n",
            "100/100 [==============================] - 25s 247ms/step - loss: 0.0078 - acc: 0.9975 - val_loss: 0.6510 - val_acc: 0.8800\n",
            "Epoch 58/100\n",
            "100/100 [==============================] - 25s 247ms/step - loss: 0.0062 - acc: 0.9985 - val_loss: 0.3264 - val_acc: 0.9390\n",
            "Epoch 59/100\n",
            "100/100 [==============================] - 24s 244ms/step - loss: 0.0030 - acc: 0.9985 - val_loss: 0.3337 - val_acc: 0.9320\n",
            "Epoch 60/100\n",
            "100/100 [==============================] - 24s 240ms/step - loss: 0.0044 - acc: 0.9985 - val_loss: 0.3544 - val_acc: 0.9320\n",
            "Epoch 61/100\n",
            "100/100 [==============================] - 25s 246ms/step - loss: 0.0017 - acc: 1.0000 - val_loss: 0.4409 - val_acc: 0.9170\n",
            "Epoch 62/100\n",
            "100/100 [==============================] - 25s 245ms/step - loss: 0.0067 - acc: 0.9985 - val_loss: 0.6195 - val_acc: 0.9050\n",
            "Epoch 63/100\n",
            "100/100 [==============================] - 24s 244ms/step - loss: 0.0061 - acc: 0.9975 - val_loss: 0.3269 - val_acc: 0.9360\n",
            "Epoch 64/100\n",
            "100/100 [==============================] - 25s 246ms/step - loss: 0.0028 - acc: 0.9990 - val_loss: 0.4398 - val_acc: 0.9270\n",
            "Epoch 65/100\n",
            "100/100 [==============================] - 24s 245ms/step - loss: 8.1954e-04 - acc: 1.0000 - val_loss: 0.4643 - val_acc: 0.9240\n",
            "Epoch 66/100\n",
            "100/100 [==============================] - 24s 243ms/step - loss: 0.0065 - acc: 0.9985 - val_loss: 0.3754 - val_acc: 0.9280\n",
            "Epoch 67/100\n",
            "100/100 [==============================] - 24s 244ms/step - loss: 0.0029 - acc: 0.9990 - val_loss: 0.4265 - val_acc: 0.9180\n",
            "Epoch 68/100\n",
            "100/100 [==============================] - 25s 247ms/step - loss: 0.0135 - acc: 0.9970 - val_loss: 0.3702 - val_acc: 0.9350\n",
            "Epoch 69/100\n",
            "100/100 [==============================] - 24s 245ms/step - loss: 0.0031 - acc: 0.9985 - val_loss: 0.3679 - val_acc: 0.9290\n",
            "Epoch 70/100\n",
            "100/100 [==============================] - 24s 244ms/step - loss: 0.0040 - acc: 0.9980 - val_loss: 0.3967 - val_acc: 0.9260\n",
            "Epoch 71/100\n",
            "100/100 [==============================] - 25s 247ms/step - loss: 0.0017 - acc: 1.0000 - val_loss: 0.7831 - val_acc: 0.8930\n",
            "Epoch 72/100\n",
            "100/100 [==============================] - 25s 245ms/step - loss: 0.0026 - acc: 0.9990 - val_loss: 0.4024 - val_acc: 0.9260\n",
            "Epoch 73/100\n",
            "100/100 [==============================] - 24s 244ms/step - loss: 0.0041 - acc: 0.9980 - val_loss: 0.3101 - val_acc: 0.9280\n",
            "Epoch 74/100\n",
            "100/100 [==============================] - 24s 244ms/step - loss: 0.0027 - acc: 0.9985 - val_loss: 0.3215 - val_acc: 0.9350\n",
            "Epoch 75/100\n",
            "100/100 [==============================] - 25s 246ms/step - loss: 0.0085 - acc: 0.9980 - val_loss: 0.6380 - val_acc: 0.9030\n",
            "Epoch 76/100\n",
            "100/100 [==============================] - 24s 245ms/step - loss: 0.0023 - acc: 0.9990 - val_loss: 0.3715 - val_acc: 0.9280\n",
            "Epoch 77/100\n",
            "100/100 [==============================] - 24s 240ms/step - loss: 0.0055 - acc: 0.9980 - val_loss: 0.3110 - val_acc: 0.9390\n",
            "Epoch 78/100\n",
            "100/100 [==============================] - 25s 246ms/step - loss: 0.0020 - acc: 0.9995 - val_loss: 0.3318 - val_acc: 0.9310\n",
            "Epoch 79/100\n",
            "100/100 [==============================] - 24s 244ms/step - loss: 7.2692e-04 - acc: 0.9995 - val_loss: 0.3128 - val_acc: 0.9470\n",
            "Epoch 80/100\n",
            "100/100 [==============================] - 24s 238ms/step - loss: 8.0658e-04 - acc: 1.0000 - val_loss: 0.4040 - val_acc: 0.9230\n",
            "Epoch 81/100\n",
            "100/100 [==============================] - 25s 248ms/step - loss: 0.0049 - acc: 0.9990 - val_loss: 0.3847 - val_acc: 0.9330\n",
            "Epoch 82/100\n",
            "100/100 [==============================] - 24s 243ms/step - loss: 0.0015 - acc: 0.9990 - val_loss: 0.3675 - val_acc: 0.9380\n",
            "Epoch 83/100\n",
            "100/100 [==============================] - 25s 248ms/step - loss: 0.0092 - acc: 0.9980 - val_loss: 0.3984 - val_acc: 0.9290\n",
            "Epoch 84/100\n",
            "100/100 [==============================] - 25s 246ms/step - loss: 0.0011 - acc: 0.9995 - val_loss: 0.3399 - val_acc: 0.9280\n",
            "Epoch 85/100\n",
            "100/100 [==============================] - 25s 247ms/step - loss: 0.0045 - acc: 0.9995 - val_loss: 0.5166 - val_acc: 0.9260\n",
            "Epoch 86/100\n",
            "100/100 [==============================] - 25s 247ms/step - loss: 6.9015e-04 - acc: 1.0000 - val_loss: 0.2607 - val_acc: 0.9470\n",
            "Epoch 87/100\n",
            "100/100 [==============================] - 24s 240ms/step - loss: 0.0012 - acc: 0.9995 - val_loss: 0.4383 - val_acc: 0.9220\n",
            "Epoch 88/100\n",
            "100/100 [==============================] - 24s 243ms/step - loss: 0.0011 - acc: 1.0000 - val_loss: 0.3999 - val_acc: 0.9410\n",
            "Epoch 89/100\n",
            "100/100 [==============================] - 24s 242ms/step - loss: 2.2716e-04 - acc: 1.0000 - val_loss: 0.4166 - val_acc: 0.9270\n",
            "Epoch 90/100\n",
            "100/100 [==============================] - 25s 246ms/step - loss: 4.2473e-04 - acc: 1.0000 - val_loss: 0.3553 - val_acc: 0.9410\n",
            "Epoch 91/100\n",
            "100/100 [==============================] - 24s 241ms/step - loss: 0.0060 - acc: 0.9985 - val_loss: 0.4231 - val_acc: 0.9320\n",
            "Epoch 92/100\n",
            "100/100 [==============================] - 24s 244ms/step - loss: 0.0038 - acc: 0.9990 - val_loss: 0.4384 - val_acc: 0.9210\n",
            "Epoch 93/100\n",
            "100/100 [==============================] - 25s 245ms/step - loss: 0.0024 - acc: 0.9990 - val_loss: 0.3821 - val_acc: 0.9340\n",
            "Epoch 94/100\n",
            "100/100 [==============================] - 24s 241ms/step - loss: 0.0025 - acc: 0.9990 - val_loss: 0.3994 - val_acc: 0.9300\n",
            "Epoch 95/100\n",
            "100/100 [==============================] - 25s 246ms/step - loss: 0.0020 - acc: 0.9990 - val_loss: 0.4105 - val_acc: 0.9340\n",
            "Epoch 96/100\n",
            "100/100 [==============================] - 24s 243ms/step - loss: 6.5939e-04 - acc: 1.0000 - val_loss: 0.4487 - val_acc: 0.9230\n",
            "Epoch 97/100\n",
            "100/100 [==============================] - 25s 247ms/step - loss: 0.0032 - acc: 0.9985 - val_loss: 0.4728 - val_acc: 0.9200\n",
            "Epoch 98/100\n",
            "100/100 [==============================] - 24s 243ms/step - loss: 0.0038 - acc: 0.9995 - val_loss: 0.4193 - val_acc: 0.9360\n",
            "Epoch 99/100\n",
            "100/100 [==============================] - 25s 247ms/step - loss: 0.0031 - acc: 0.9985 - val_loss: 0.3826 - val_acc: 0.9340\n",
            "Epoch 100/100\n",
            "100/100 [==============================] - 25s 247ms/step - loss: 2.0053e-04 - acc: 1.0000 - val_loss: 0.4969 - val_acc: 0.9250\n"
          ],
          "name": "stdout"
        }
      ]
    },
    {
      "cell_type": "code",
      "metadata": {
        "id": "tThweBvpElBg",
        "colab_type": "code",
        "colab": {}
      },
      "source": [
        "model.save('cats_and_dogs_small_4.h5')"
      ],
      "execution_count": 0,
      "outputs": []
    },
    {
      "cell_type": "code",
      "metadata": {
        "id": "Vs8WFRQRP96a",
        "colab_type": "code",
        "colab": {
          "base_uri": "https://localhost:8080/",
          "height": 545
        },
        "outputId": "f1169bdd-db0a-4cc3-99bb-edf2e70c0869"
      },
      "source": [
        "acc = history.history['acc']\n",
        "val_acc = history.history['val_acc']\n",
        "loss = history.history['loss']\n",
        "val_loss = history.history['val_loss']\n",
        "\n",
        "epochs = range(len(acc))\n",
        "\n",
        "plt.plot(epochs, acc, 'r', label='Training acc')\n",
        "plt.plot(epochs, val_acc, 'b', label='Validation acc')\n",
        "plt.title('Training and validation accuracy')\n",
        "plt.legend()\n",
        "\n",
        "plt.figure()\n",
        "\n",
        "plt.plot(epochs, loss, 'r', label='Training loss')\n",
        "plt.plot(epochs, val_loss, 'b', label='Validation loss')\n",
        "plt.title('Training and validation loss')\n",
        "plt.legend()\n",
        "\n",
        "plt.show()"
      ],
      "execution_count": 20,
      "outputs": [
        {
          "output_type": "display_data",
          "data": {
            "image/png": "[encoded data removed]",
            "text/plain": [
              "<Figure size 432x288 with 1 Axes>"
            ]
          },
          "metadata": {
            "tags": []
          }
        },
        {
          "output_type": "display_data",
          "data": {
            "image/png": "[encoded data removed]",
            "text/plain": [
              "<Figure size 432x288 with 1 Axes>"
            ]
          },
          "metadata": {
            "tags": []
          }
        }
      ]
    },
    {
      "cell_type": "markdown",
      "metadata": {
        "id": "Fe-MMoPnQE9Q",
        "colab_type": "text"
      },
      "source": [
        "그래프가 불규칙하게 보이기 때문에 그래프를 보기 쉽게 하기 위해 **지수 이동 평균(exponential moving average)** 으로 정확도와 손실 값을 부드럽게 표현할 수 있습니다.  \n",
        "다음은 지수 이동 평균을 구하기 위한 간단한 함수입니다."
      ]
    },
    {
      "cell_type": "code",
      "metadata": {
        "id": "3p9xl41SQB0t",
        "colab_type": "code",
        "colab": {
          "base_uri": "https://localhost:8080/",
          "height": 545
        },
        "outputId": "985c0916-3226-4af1-ac67-40d8eaada7da"
      },
      "source": [
        "# 코드 5-24 부드러운 그래프 그리기\n",
        "def smooth_curve(points, factor=0.8):\n",
        "  smoothed_points = []\n",
        "  for point in points:\n",
        "    if smoothed_points:\n",
        "      previous = smoothed_points[-1]\n",
        "      smoothed_points.append(previous * factor + point * (1 - factor))\n",
        "    else:\n",
        "      smoothed_points.append(point)\n",
        "  return smoothed_points\n",
        "\n",
        "plt.plot(epochs, smooth_curve(acc), 'r', label='Smoothed training acc')\n",
        "plt.plot(epochs, smooth_curve(val_acc), 'b', label='Smoothed validation acc')\n",
        "plt.title('Training and validation accuracy')\n",
        "plt.legend()\n",
        "\n",
        "plt.figure()\n",
        "\n",
        "plt.plot(epochs, smooth_curve(loss), 'r', label='Smoothed training loss')\n",
        "plt.plot(epochs, smooth_curve(val_loss), 'b', label='Smoothed validation loss')\n",
        "plt.title('Training and validation loss')\n",
        "plt.legend()\n",
        "\n",
        "plt.show()"
      ],
      "execution_count": 21,
      "outputs": [
        {
          "output_type": "display_data",
          "data": {
            "image/png": "[encoded data removed]",
            "text/plain": [
              "<Figure size 432x288 with 1 Axes>"
            ]
          },
          "metadata": {
            "tags": []
          }
        },
        {
          "output_type": "display_data",
          "data": {
            "image/png": "[encoded data removed]",
            "text/plain": [
              "<Figure size 432x288 with 1 Axes>"
            ]
          },
          "metadata": {
            "tags": []
          }
        }
      ]
    },
    {
      "cell_type": "markdown",
      "metadata": {
        "id": "LgmxvsGmQ5y9",
        "colab_type": "text"
      },
      "source": [
        "정확도는 조금 올랐지만 손실 곡선은 실제 어떤 향상을 얻지 못했습니다. 손실이 감소되지 않았는데 어떻게 정확도가 안정되거나 향상될 수 있을까요?"
      ]
    },
    {
      "cell_type": "markdown",
      "metadata": {
        "id": "wpjgzBIsRsk5",
        "colab_type": "text"
      },
      "source": [
        "그래프는 개별적인 손실 값의 평균을 그린 것입니다. 하지만 정확도에 영향을 미치는 것은 손실 값의 분포이지 평균이 아닙니다. 정확도는 모델이 예측한 클래스 확률이 어떤 임계 값을 넘었는지에 대한 결과이기 때문입니다. 모델이 더 향상되더라도 평균 손실에 반영되지 않을 수 있습니다.  \n",
        "(정확도를 직접 최적화할 수 없고 크로스엔트로피 같은 대리 손실 함수를 사용하기 때문에 이런 현상이 발생할 수 있습니다.)"
      ]
    },
    {
      "cell_type": "markdown",
      "metadata": {
        "id": "574ox8VdSAOz",
        "colab_type": "text"
      },
      "source": [
        "마지막으로 테스트 데이터에서 모델을 평가하겠습니다."
      ]
    },
    {
      "cell_type": "code",
      "metadata": {
        "id": "nAoedaayQiGD",
        "colab_type": "code",
        "colab": {
          "base_uri": "https://localhost:8080/",
          "height": 54
        },
        "outputId": "54f8b4fe-91a1-4161-fc0d-1206fe787099"
      },
      "source": [
        "test_generator = test_datagen.flow_from_directory(test_dir,\n",
        "                                                  target_size=(150, 150),\n",
        "                                                  batch_size=20,\n",
        "                                                  class_mode='binary')\n",
        "\n",
        "test_loss, test_acc = model.evaluate_generator(test_generator, steps=50)\n",
        "print('test acc:', test_acc)"
      ],
      "execution_count": 22,
      "outputs": [
        {
          "output_type": "stream",
          "text": [
            "Found 1000 images belonging to 2 classes.\n",
            "test acc: 0.9319999957084656\n"
          ],
          "name": "stdout"
        }
      ]
    },
    {
      "cell_type": "markdown",
      "metadata": {
        "id": "UANplXFZSOGv",
        "colab_type": "text"
      },
      "source": [
        "약 93%의 테스트 정확도를 얻었습니다."
      ]
    },
    {
      "cell_type": "markdown",
      "metadata": {
        "id": "LaXHW305SbuC",
        "colab_type": "text"
      },
      "source": [
        "### 5.3.3 정리\n",
        "\n",
        "* 컨브넷은 컴퓨터 비전 작업에 가장 뛰어난 머신 러닝 모델입니다. 아주 작은 데이터셋에서도 처음부터 훈련해서 괜찮은 성능을 낼 수 있습니다.\n",
        "* 작은 데이터셋에서는 오버피팅이 큰 문제입니다. 데이터 증식은 이미지 데이터를 다룰 때 오버피팅을 막을 수 있는 강력한 방법입니다.\n",
        "* 특성 추출 방식으로 새로운 데이터셋에 기존 컨브넷을 쉽게 재사용할 수 있습니다. 작은 이미지 데이터셋으로 작업할 때 효과적인 기법입니다.\n",
        "* 특성 추출을 보완하기 위해 미세 조정을 사용할 수 있습니다. 미세 조정은 기존 모델에서 사전에 학습한 표현의 일부를 새로운 문제에 적응시킵니다. 이 기법은 조금 더 성능을 끌어올립니다.\n",
        "\n",
        "지금까지 이미지 분류 문제에서 특히 작은 데이터셋을 다루기 위한 좋은 도구들을 배웠습니다."
      ]
    }
  ]
}